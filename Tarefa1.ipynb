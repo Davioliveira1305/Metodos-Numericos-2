{
  "nbformat": 4,
  "nbformat_minor": 0,
  "metadata": {
    "colab": {
      "provenance": [],
      "authorship_tag": "ABX9TyMn4jy95JqM5kW8o7fyblHm",
      "include_colab_link": true
    },
    "kernelspec": {
      "name": "python3",
      "display_name": "Python 3"
    },
    "language_info": {
      "name": "python"
    }
  },
  "cells": [
    {
      "cell_type": "markdown",
      "metadata": {
        "id": "view-in-github",
        "colab_type": "text"
      },
      "source": [
        "<a href=\"https://colab.research.google.com/github/Davioliveira1305/Metodos-Numericos-2/blob/main/Tarefa1.ipynb\" target=\"_parent\"><img src=\"https://colab.research.google.com/assets/colab-badge.svg\" alt=\"Open In Colab\"/></a>"
      ]
    },
    {
      "cell_type": "code",
      "source": [
        "import math"
      ],
      "metadata": {
        "id": "DaMaR3u43vN6"
      },
      "execution_count": null,
      "outputs": []
    },
    {
      "cell_type": "code",
      "execution_count": null,
      "metadata": {
        "id": "qqBdRkVxuqzf"
      },
      "outputs": [],
      "source": [
        "def f(x):\n",
        "  return math.sqrt(math.e ** (3 * x) + 4 * (x ** 2))"
      ]
    },
    {
      "cell_type": "code",
      "source": [
        "def derivada_segunda(x, delta):\n",
        "  parte_2 = (1/(12 * (delta ** 2))) * (16*f(x + delta) + 16 * f(x - delta) - f(x + 2 * delta) - f(x - 2 * delta) - 30 * f(x))\n",
        "  # print(parte_1, parte_2)\n",
        "  return parte_2"
      ],
      "metadata": {
        "id": "fOYVEdTKvXWJ"
      },
      "execution_count": null,
      "outputs": []
    },
    {
      "cell_type": "code",
      "source": [
        "print(derivada_segunda(2, 0.00001))"
      ],
      "metadata": {
        "colab": {
          "base_uri": "https://localhost:8080/"
        },
        "id": "OWAkTWJTxJr_",
        "outputId": "ee3346fa-9d76-4589-fc74-e176ec757315"
      },
      "execution_count": null,
      "outputs": [
        {
          "output_type": "stream",
          "name": "stdout",
          "text": [
            "36.00007403292693\n"
          ]
        }
      ]
    },
    {
      "cell_type": "code",
      "source": [
        "def derivada_segunda_newton(x, delta):\n",
        "  parte_1 = 1/(12 * (delta ** 2))\n",
        "  parte_2 = 16*f(x + delta) + 16 * f(x - delta) - f(x + 2 * delta) - f(x - 2 * delta) - 30 * f(x)\n",
        "\n",
        "  return parte_1 / parte_2"
      ],
      "metadata": {
        "id": "aFUW1QdjTuMq"
      },
      "execution_count": null,
      "outputs": []
    },
    {
      "cell_type": "code",
      "source": [
        "print(derivada_segunda(2, 0.01))"
      ],
      "metadata": {
        "colab": {
          "base_uri": "https://localhost:8080/"
        },
        "id": "wHj6R3IWVQmL",
        "outputId": "89be62c9-8b25-46aa-d18e-dec932f2f6ff"
      },
      "execution_count": null,
      "outputs": [
        {
          "output_type": "stream",
          "name": "stdout",
          "text": [
            "5.1839999999810974e-05\n"
          ]
        }
      ]
    },
    {
      "cell_type": "code",
      "source": [
        "delta_old = 1\n",
        "delta_new = 0.5\n",
        "e = 1\n",
        "x = 2\n",
        "while e > 1e-5:\n",
        "  e = abs(((derivada_segunda(2,delta_new)-derivada_segunda(2,delta_old))/derivada_segunda(2,delta_new)))\n",
        "  print(delta_new, f(2), derivada_segunda(2, delta_new), e)\n",
        "  delta_old = delta_new\n",
        "  delta_new = delta_new * 0.5"
      ],
      "metadata": {
        "colab": {
          "base_uri": "https://localhost:8080/"
        },
        "id": "K8iqtoxTxikK",
        "outputId": "852552fe-6427-4c3c-edb7-cf8abb9fbae1"
      },
      "execution_count": null,
      "outputs": [
        {
          "output_type": "stream",
          "name": "stdout",
          "text": [
            "0.5 20.479960778593668 44.904360044112195 0.0663745397202892\n",
            "0.25 20.479960778593668 45.063360841620124 0.0035283830264403425\n",
            "0.125 20.479960778593668 45.07291436148868 0.0002119570035328501\n",
            "0.0625 20.479960778593668 45.07350557305472 1.3116609381117078e-05\n",
            "0.03125 20.479960778593668 45.07354243226776 8.177571819513249e-07\n"
          ]
        }
      ]
    }
  ]
}
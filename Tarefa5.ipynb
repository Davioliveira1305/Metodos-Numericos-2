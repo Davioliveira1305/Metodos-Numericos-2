{
  "nbformat": 4,
  "nbformat_minor": 0,
  "metadata": {
    "colab": {
      "provenance": [],
      "authorship_tag": "ABX9TyNaF5Vesqh5sMa1fUButqBl",
      "include_colab_link": true
    },
    "kernelspec": {
      "name": "python3",
      "display_name": "Python 3"
    },
    "language_info": {
      "name": "python"
    }
  },
  "cells": [
    {
      "cell_type": "markdown",
      "metadata": {
        "id": "view-in-github",
        "colab_type": "text"
      },
      "source": [
        "<a href=\"https://colab.research.google.com/github/Davioliveira1305/Metodos-Numericos-2/blob/main/Tarefa5.ipynb\" target=\"_parent\"><img src=\"https://colab.research.google.com/assets/colab-badge.svg\" alt=\"Open In Colab\"/></a>"
      ]
    },
    {
      "cell_type": "markdown",
      "source": [
        "# Função que será integrada"
      ],
      "metadata": {
        "id": "jhIgWxF6e72_"
      }
    },
    {
      "cell_type": "code",
      "execution_count": 6,
      "metadata": {
        "id": "HCcGU6C2WO6z"
      },
      "outputs": [],
      "source": [
        "import math, sympy\n",
        "def f(x): return (math.sin(2*x)+4*(x**2)+3*x)**2"
      ]
    },
    {
      "cell_type": "markdown",
      "source": [
        "# Fórmulas de Gauss-Legendre de 2 a 4 pontos"
      ],
      "metadata": {
        "id": "zl-R3TwNfKKY"
      }
    },
    {
      "cell_type": "code",
      "source": [
        "def formulas_gl(n, a , b):\n",
        "  interval = (b - a)/2\n",
        "  if n == 2:\n",
        "    # Vetor de pesos referente a fórmula de Gauss-Legendre com dois pontos\n",
        "    w = [1, 1]\n",
        "    # x(a1) e x(a2)\n",
        "    x_a1 = ((a + b)/2) - (((b - a)/2)*math.sqrt(1/3))\n",
        "    x_a2 = ((a + b)/2) + (((b - a)/2)*math.sqrt(1/3))\n",
        "    return interval * (f(x_a1)*w[0] + f(x_a2)*w[1])\n",
        "  elif n == 3:\n",
        "    # Vetor de pesos referente a fórmula de Gauss-Legendre com 3 pontos\n",
        "    w = [5/9, 8/9, 5/9]\n",
        "    # x(a1), x(a2) e x(a3)\n",
        "    x_a1 = ((a + b)/2) - ((b - a)/2)*math.sqrt(3/5)\n",
        "    x_a2 = (a + b)/2\n",
        "    x_a3 = ((a + b)/2) + ((b - a)/2)*math.sqrt(3/5)\n",
        "    return interval*(f(x_a1)*w[0] + f(x_a2)*w[1] + f(x_a3)*w[2])\n",
        "\n",
        "  else:\n",
        "    # Vetor de pesos referente a fórmula de Gauss-Legendre com 3 pontos\n",
        "    w = [0.6521451549, 0.6521451549, 0.3478548451, 0.3478548451]\n",
        "    # x(a1), x(a2), x(a3) e x(a4)\n",
        "    x_a1 = ((a + b)/2) + (((b - a)/2)*math.sqrt((3/7)-(2/7)*math.sqrt(6/5)))\n",
        "    x_a2 = ((a + b)/2) - (((b - a)/2)*math.sqrt((3/7)-(2/7)*math.sqrt(6/5)))\n",
        "    x_a3 = ((a + b)/2) + (((b - a)/2)*math.sqrt((3/7)+(2/7)*math.sqrt(6/5)))\n",
        "    x_a4 = ((a + b)/2) - (((b - a)/2)*math.sqrt((3/7)+(2/7)*math.sqrt(6/5)))\n",
        "    return interval*(f(x_a1)*w[0] + f(x_a2)*w[1] + f(x_a3)*w[2] + f(x_a4)*w[3])"
      ],
      "metadata": {
        "id": "oqf4AlTBWd1M"
      },
      "execution_count": 7,
      "outputs": []
    },
    {
      "cell_type": "markdown",
      "source": [
        "# Função para particionar o intervalo de integração e para garantir a convergência até o erro especificado."
      ],
      "metadata": {
        "id": "DT6OIsZifX5n"
      }
    },
    {
      "cell_type": "code",
      "source": [
        "import warnings, numba\n",
        "import numpy\n",
        "warnings.filterwarnings('ignore')\n",
        "# Lib para acelerar códigos python\n",
        "@numba.jit\n",
        "def gauss_legendre(f, a, b, points):\n",
        "  # Inicializando o erro em 10\n",
        "  E = 10\n",
        "  # Vetor para guardar o intervalo de integração\n",
        "  interval = [a, b]\n",
        "  # Inicializando com o número de partições igual a 1\n",
        "  N = 1\n",
        "  # Inicializando da variável que vai guardas as soluções antigas\n",
        "  Sol_old = 0\n",
        "  # Inicializando da variável que vai guardas as soluções novas\n",
        "  Sol_new = 0\n",
        "  # Contador de iterações\n",
        "  i = 0\n",
        "  while E > 1e-6:\n",
        "    Sol_new = 0\n",
        "    # Particiona o intervalo de integração em relação ao número de partições\n",
        "    partitions = numpy.linspace(interval[0], interval[1], N + 1)\n",
        "    # Pecorre as partições\n",
        "    for i in range(len(partitions) - 1):\n",
        "        a = partitions[i+0]\n",
        "        b = partitions[i+1]\n",
        "        # Soma o resulta da interpolação nas diversas partições\n",
        "        Sol_new += formulas_gl(points, a , b)\n",
        "    # Aumenta o número de partições\n",
        "    N = N * 2\n",
        "    # Calcula o erro relativos da solução\n",
        "    E = abs(1 - Sol_old/Sol_new)\n",
        "    # Atualiza a solução antiga\n",
        "    Sol_old = Sol_new\n",
        "    i += 1\n",
        "  return Sol_new, i, E"
      ],
      "metadata": {
        "id": "hpKUXCJTcXTH"
      },
      "execution_count": 20,
      "outputs": []
    },
    {
      "cell_type": "markdown",
      "source": [
        "# Teste utilizando 2 pontos"
      ],
      "metadata": {
        "id": "1gSCSiejgK7n"
      }
    },
    {
      "cell_type": "code",
      "source": [
        "a = 0\n",
        "b = 1\n",
        "points = 2\n",
        "solution, iter, erro = gauss_legendre(f, a, b, points)\n",
        "print(f'Solução = {solution}, iterações = {iter}, erro = {erro}')"
      ],
      "metadata": {
        "colab": {
          "base_uri": "https://localhost:8080/"
        },
        "id": "sLhdwlYxdYrs",
        "outputId": "36e792dd-534f-416e-cb2d-b79f14932001"
      },
      "execution_count": 21,
      "outputs": [
        {
          "output_type": "stream",
          "name": "stdout",
          "text": [
            "Solução = 17.876470065027217, iterações = 16, erro = 2.292157835759312e-07\n"
          ]
        }
      ]
    },
    {
      "cell_type": "markdown",
      "source": [
        "# Teste utilizando 3 pontos"
      ],
      "metadata": {
        "id": "MjLwl1FlgwV3"
      }
    },
    {
      "cell_type": "code",
      "source": [
        "a = 0\n",
        "b = 1\n",
        "points = 3\n",
        "solution, iter, erro = gauss_legendre(f, a, b, points)\n",
        "print(f'Solução = {solution}, iterações = {iter}, erro = {erro}')"
      ],
      "metadata": {
        "colab": {
          "base_uri": "https://localhost:8080/"
        },
        "id": "XfUFYL8cg0Kt",
        "outputId": "47f56be2-87e8-4404-96bb-62236c98a635"
      },
      "execution_count": 22,
      "outputs": [
        {
          "output_type": "stream",
          "name": "stdout",
          "text": [
            "Solução = 17.87647033680088, iterações = 8, erro = 1.918124659106013e-08\n"
          ]
        }
      ]
    },
    {
      "cell_type": "markdown",
      "source": [
        "# Teste utilizando 4 pontos"
      ],
      "metadata": {
        "id": "aLSP2g18g3sx"
      }
    },
    {
      "cell_type": "code",
      "source": [
        "a = 0\n",
        "b = 1\n",
        "points = 4\n",
        "solution, iter, erro = gauss_legendre(f, a, b, points)\n",
        "print(f'Solução = {solution}, iterações = {iter}, erro = {erro}')"
      ],
      "metadata": {
        "colab": {
          "base_uri": "https://localhost:8080/"
        },
        "id": "npZeZZfqg6ZM",
        "outputId": "b3dbcd34-a1a3-4a74-acba-eeff75bb9931"
      },
      "execution_count": 23,
      "outputs": [
        {
          "output_type": "stream",
          "name": "stdout",
          "text": [
            "Solução = 17.876470380776375, iterações = 2, erro = 5.419349753399416e-07\n"
          ]
        }
      ]
    }
  ]
}
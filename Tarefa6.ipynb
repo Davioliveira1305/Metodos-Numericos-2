{
  "nbformat": 4,
  "nbformat_minor": 0,
  "metadata": {
    "colab": {
      "provenance": [],
      "authorship_tag": "ABX9TyO3CRSVtr15OH/6c32sm4rK",
      "include_colab_link": true
    },
    "kernelspec": {
      "name": "python3",
      "display_name": "Python 3"
    },
    "language_info": {
      "name": "python"
    }
  },
  "cells": [
    {
      "cell_type": "markdown",
      "metadata": {
        "id": "view-in-github",
        "colab_type": "text"
      },
      "source": [
        "<a href=\"https://colab.research.google.com/github/Davioliveira1305/Metodos-Numericos-2/blob/main/Tarefa6.ipynb\" target=\"_parent\"><img src=\"https://colab.research.google.com/assets/colab-badge.svg\" alt=\"Open In Colab\"/></a>"
      ]
    },
    {
      "cell_type": "markdown",
      "source": [
        "# Função que será integrada pelas fórmulas de Gauss-Hermite\n",
        "$$\\int_{-\\infty}^{+\\infty} e^{-x^{2}} \\cdot (sin(x) + x^{2})dx$$"
      ],
      "metadata": {
        "id": "cK8qum3uU5YU"
      }
    },
    {
      "cell_type": "code",
      "source": [
        "import math\n",
        "def f(x): return math.sin(x)+x**2"
      ],
      "metadata": {
        "id": "77EU_ID_UiV0"
      },
      "execution_count": null,
      "outputs": []
    },
    {
      "cell_type": "markdown",
      "source": [
        "## Fórmulas de Gauss-Hermite utilizando polinômios de Hermite de graus 2 a 4"
      ],
      "metadata": {
        "id": "u-HAOmg852h-"
      }
    },
    {
      "cell_type": "code",
      "execution_count": null,
      "metadata": {
        "id": "2WpwMzybT88G"
      },
      "outputs": [],
      "source": [
        "def gauss_hermite(degree):\n",
        "  if degree == 2:\n",
        "    # Raízes do polinômio de Hermite de grau 2\n",
        "    x_1 = -1/math.sqrt(2)\n",
        "    x_2 = 1/math.sqrt(2)\n",
        "    # Pesos associados as raízes do polinômio de Hermite de grau 2\n",
        "    w = [(math.sqrt(math.pi))/2, (math.sqrt(math.pi))/2]\n",
        "    return f(x_1)*w[0] + f(x_2)*w[1]\n",
        "\n",
        "  elif degree == 3:\n",
        "    # Raízes do polinômio de Hermite de grau 3\n",
        "    x_1 = -math.sqrt(3/2)\n",
        "    x_2 = 0\n",
        "    x_3 = math.sqrt(3/2)\n",
        "    # Pesos associados as raízes do polinômio de Hermite de grau 3\n",
        "    w = [(math.sqrt(math.pi))/6, (2*math.sqrt(math.pi))/3, (math.sqrt(math.pi))/6]\n",
        "    return f(x_1)*w[0] + f(x_2)*w[1] + f(x_3)*w[2]\n",
        "\n",
        "  else:\n",
        "    # Raízes do polinômio de Hermite de grau 4\n",
        "    x_1 = math.sqrt((3-math.sqrt(6))/2)\n",
        "    x_2 = -math.sqrt((3-math.sqrt(6))/2)\n",
        "    x_3 = math.sqrt((3+math.sqrt(6))/2)\n",
        "    x_4 = -math.sqrt((3+math.sqrt(6))/2)\n",
        "    # Pesos associados as raízes do polinômio de Hermite de grau 3\n",
        "    w = [0.804914, 0.804914, 0.0813128, 0.0813128]\n",
        "    return f(x_1)*w[0] + f(x_2)*w[1] + f(x_3)*w[2] + f(x_4)*w[3]"
      ]
    },
    {
      "cell_type": "markdown",
      "source": [
        "## Teste Gauss-Hermite utilizando polinômio de Hermite de grau 2"
      ],
      "metadata": {
        "id": "qvJ3Nkr42TgB"
      }
    },
    {
      "cell_type": "code",
      "source": [
        "degree = 2\n",
        "solution = gauss_hermite(degree)\n",
        "print(f\"Solução = {solution}\")"
      ],
      "metadata": {
        "colab": {
          "base_uri": "https://localhost:8080/"
        },
        "id": "MJFYOCUG4QSk",
        "outputId": "b9462bd6-9082-4581-81a3-2733779cd6b2"
      },
      "execution_count": null,
      "outputs": [
        {
          "output_type": "stream",
          "name": "stdout",
          "text": [
            "Solução = 0.8862269254527577\n"
          ]
        }
      ]
    },
    {
      "cell_type": "markdown",
      "source": [
        "## Teste Gauss-Hermite utilizando polinômio de Hermite de grau 3"
      ],
      "metadata": {
        "id": "2xwKhBjS5Oxk"
      }
    },
    {
      "cell_type": "code",
      "source": [
        "degree = 3\n",
        "solution = gauss_hermite(degree)\n",
        "print(f\"Solução = {solution}\")"
      ],
      "metadata": {
        "colab": {
          "base_uri": "https://localhost:8080/"
        },
        "id": "N8zCczif5doy",
        "outputId": "f35822c7-42ad-4940-d5c9-137de2284e23"
      },
      "execution_count": null,
      "outputs": [
        {
          "output_type": "stream",
          "name": "stdout",
          "text": [
            "Solução = 0.8862269254527577\n"
          ]
        }
      ]
    },
    {
      "cell_type": "markdown",
      "source": [
        "## Teste Gauss-Hermite utilizando polinômio de Hermite de grau 4"
      ],
      "metadata": {
        "id": "Xacn_bsc5h1K"
      }
    },
    {
      "cell_type": "code",
      "source": [
        "degree = 3\n",
        "solution = gauss_hermite(degree)\n",
        "print(f\"Solução = {solution}\")"
      ],
      "metadata": {
        "colab": {
          "base_uri": "https://localhost:8080/"
        },
        "id": "8YeaRLLO5o9j",
        "outputId": "041167f9-e180-4d25-9d49-317dd9b741ad"
      },
      "execution_count": null,
      "outputs": [
        {
          "output_type": "stream",
          "name": "stdout",
          "text": [
            "Solução = 0.8862269254527577\n"
          ]
        }
      ]
    },
    {
      "cell_type": "markdown",
      "source": [
        "# Função que será integrada pelas fórmulas de Gauss-Laguerre\n",
        "$$\\int_{0}^{+\\infty} e^{-x} \\cdot (sin(x) + x^{2})dx$$"
      ],
      "metadata": {
        "id": "M5Ji_uvr6NDA"
      }
    },
    {
      "cell_type": "code",
      "source": [
        "def f(x): return math.sin(x)+x**2"
      ],
      "metadata": {
        "id": "_PU3x-8_6Tzi"
      },
      "execution_count": null,
      "outputs": []
    },
    {
      "cell_type": "markdown",
      "source": [
        "## Fórmulas de Gauss-Hermite utilizando polinômios de Laguerre de graus 2 a 4"
      ],
      "metadata": {
        "id": "cisGjMtgBzr6"
      }
    },
    {
      "cell_type": "code",
      "source": [
        "def gauss_laguerre(degree):\n",
        "  if degree == 2:\n",
        "    # Raízes do polinômio de Laguerre de grau 2\n",
        "    x_1 = 2 - math.sqrt(2)\n",
        "    x_2 = 2 + math.sqrt(2)\n",
        "    # Pesos associados as raízes do polinômio de Laguerre de grau 2\n",
        "    w = [(1/4)*(2+math.sqrt(2)), (1/4)*(2-math.sqrt(2))]\n",
        "    return f(x_1)*w[0] + f(x_2)*w[1]\n",
        "\n",
        "  elif degree == 3:\n",
        "    # Raízes do polinômio de Laguerre de grau 3\n",
        "    x_1 = 0.4157745568\n",
        "    x_2 = 2.2942803603\n",
        "    x_3 = 6.2899450829\n",
        "    # Pesos associados as raízes do polinômio de Laguerre de grau 3\n",
        "    w = [0.7110930099, 0.2785177336, 0.0103892565]\n",
        "    return f(x_1)*w[0] + f(x_2)*w[1] + f(x_3)*w[2]\n",
        "\n",
        "  else:\n",
        "    # Raízes do polinômio de Laguerre de grau 4\n",
        "    x_1 = 0.32254\n",
        "    x_2 = 1.74576\n",
        "    x_3 = 4.53652\n",
        "    x_4 = 9.39507\n",
        "    # Pesos associados as raízes do polinômio de Laguerre de grau 3\n",
        "    w =[0.603154, 0.357419, 0.0388879, 0.000539295]\n",
        "    return f(x_1)*w[0] + f(x_2)*w[1] + f(x_3)*w[2] + f(x_4)*w[3]"
      ],
      "metadata": {
        "id": "1FRyzR3m6ZN0"
      },
      "execution_count": null,
      "outputs": []
    },
    {
      "cell_type": "markdown",
      "source": [
        "## Teste de Gauss-Laguerre utilizando polinômio de Laguerre de grau 2"
      ],
      "metadata": {
        "id": "xtRf6yT9AIsW"
      }
    },
    {
      "cell_type": "code",
      "source": [
        "degree = 2\n",
        "solution = gauss_laguerre(degree)\n",
        "print(f'Solução = {solution}')"
      ],
      "metadata": {
        "colab": {
          "base_uri": "https://localhost:8080/"
        },
        "id": "xWBBJ13-APLu",
        "outputId": "f10e87b3-acbf-4134-dde0-22418d771e28"
      },
      "execution_count": null,
      "outputs": [
        {
          "output_type": "stream",
          "name": "stdout",
          "text": [
            "Solução = 2.4324594546798437\n"
          ]
        }
      ]
    },
    {
      "cell_type": "markdown",
      "source": [
        "## Teste de Gauss-Laguerre utilizando polinômio de Laguerre de grau 3"
      ],
      "metadata": {
        "id": "_5jeR6VgAXuW"
      }
    },
    {
      "cell_type": "code",
      "source": [
        "degree = 3\n",
        "solution = gauss_laguerre(degree)\n",
        "print(f'Solução = {solution}')"
      ],
      "metadata": {
        "colab": {
          "base_uri": "https://localhost:8080/"
        },
        "id": "O706tDj5AhJ3",
        "outputId": "5cc446e7-b3c7-49b7-880e-d5010b925ecc"
      },
      "execution_count": null,
      "outputs": [
        {
          "output_type": "stream",
          "name": "stdout",
          "text": [
            "Solução = 2.496029827624084\n"
          ]
        }
      ]
    },
    {
      "cell_type": "markdown",
      "source": [
        "## Teste de Gauss-Laguerre utilizando polinômio de Laguerre de grau 4"
      ],
      "metadata": {
        "id": "gvM31BZRAjJe"
      }
    },
    {
      "cell_type": "code",
      "source": [
        "degree = 4\n",
        "solution = gauss_laguerre(degree)\n",
        "print(f'Solução = {solution}')"
      ],
      "metadata": {
        "colab": {
          "base_uri": "https://localhost:8080/"
        },
        "id": "c5sgV0hXApyG",
        "outputId": "7971ba62-30a8-4fb9-c718-014cfff9e308"
      },
      "execution_count": null,
      "outputs": [
        {
          "output_type": "stream",
          "name": "stdout",
          "text": [
            "Solução = 2.5048369236055303\n"
          ]
        }
      ]
    },
    {
      "cell_type": "markdown",
      "source": [
        "# Função que será integrada pelas fórmulas de Gauss-Chebyshev\n",
        "$$\\int_{-1}^{1} \\frac{1}{\\sqrt{1 - x^{2}}} \\cdot (sin(x) + x^{2})dx$$"
      ],
      "metadata": {
        "id": "eVuQVHRtBlnW"
      }
    },
    {
      "cell_type": "markdown",
      "source": [
        "## Fórmulas de Gauss-Hermite utilizando polinômios de Chebyshev de graus 2 a 4"
      ],
      "metadata": {
        "id": "VeVT44fgClt4"
      }
    },
    {
      "cell_type": "code",
      "source": [
        "def gauss_chebyshev(degree):\n",
        "  if degree == 2:\n",
        "    # Raízes do polinômio de Chebyshev de grau 2\n",
        "    x_1 = -1/math.sqrt(2)\n",
        "    x_2 = 1/math.sqrt(2)\n",
        "    # Peso associado as raízes do polinômio de Chebyshev de grau 2\n",
        "    w = math.pi/2\n",
        "    return f(x_1)*w + f(x_2)*w\n",
        "\n",
        "  elif degree == 3:\n",
        "    # Raízes do polinômio de Chebyshev de grau 2\n",
        "    x_1 = -math.sqrt(3)/2\n",
        "    x_2 = 0\n",
        "    x_3 = math.sqrt(3)/2\n",
        "    # Peso associado as raízes do polinômio de Chebyshev de grau 3\n",
        "    w = math.pi/3\n",
        "    return f(x_1)*w + f(x_2)*w + f(x_3)*w\n",
        "\n",
        "  else:\n",
        "    # Raízes do polinômio de Chebyshev de grau 2\n",
        "    x_1 = 0.382683\n",
        "    x_2 = -0.382683\n",
        "    x_3 = 0.92388\n",
        "    x_4 = -0.92388\n",
        "    # Peso associado as raízes do polinômio de Chebyshev de grau 4\n",
        "    w = 0.785398\n",
        "    return f(x_1)*w + f(x_2)*w + f(x_3)*w + f(x_4)*w"
      ],
      "metadata": {
        "id": "c7SMpYBiCh2I"
      },
      "execution_count": 42,
      "outputs": []
    },
    {
      "cell_type": "markdown",
      "source": [
        "## Teste de Gauss-Chebyshev utilizando polinômio de grau 2"
      ],
      "metadata": {
        "id": "h3auFEjl8TPF"
      }
    },
    {
      "cell_type": "code",
      "source": [
        "degree = 2\n",
        "solution = gauss_chebyshev(degree)\n",
        "print(f'Solução = {solution}')"
      ],
      "metadata": {
        "colab": {
          "base_uri": "https://localhost:8080/"
        },
        "id": "gjPKJ0O18gM9",
        "outputId": "bb81df41-d1b9-4e89-8cd8-07548dafb5fd"
      },
      "execution_count": 43,
      "outputs": [
        {
          "output_type": "stream",
          "name": "stdout",
          "text": [
            "Solução = 1.5707963267948961\n"
          ]
        }
      ]
    },
    {
      "cell_type": "markdown",
      "source": [
        "## Teste de Gauss-Chebyshev utilizando polinômio de grau 3"
      ],
      "metadata": {
        "id": "j4g51i-A8tYY"
      }
    },
    {
      "cell_type": "code",
      "source": [
        "degree = 3\n",
        "solution = gauss_chebyshev(degree)\n",
        "print(f'Solução = {solution}')"
      ],
      "metadata": {
        "colab": {
          "base_uri": "https://localhost:8080/"
        },
        "id": "JXZqcZSN84j6",
        "outputId": "57d231b9-d834-44ab-e28a-2891ea3fb066"
      },
      "execution_count": 44,
      "outputs": [
        {
          "output_type": "stream",
          "name": "stdout",
          "text": [
            "Solução = 1.5707963267948963\n"
          ]
        }
      ]
    },
    {
      "cell_type": "markdown",
      "source": [
        "## Teste de Gauss-Chebyshev utilizando polinômio de grau 4"
      ],
      "metadata": {
        "id": "NbswVvqd88uK"
      }
    },
    {
      "cell_type": "code",
      "source": [
        "degree = 4\n",
        "solution = gauss_chebyshev(degree)\n",
        "print(f'Solução = {solution}')"
      ],
      "metadata": {
        "colab": {
          "base_uri": "https://localhost:8080/"
        },
        "id": "B2VlxbKY9Do5",
        "outputId": "fc074e96-9026-4876-de04-39204022a206"
      },
      "execution_count": 45,
      "outputs": [
        {
          "output_type": "stream",
          "name": "stdout",
          "text": [
            "Solução = 1.57079683705991\n"
          ]
        }
      ]
    }
  ]
}
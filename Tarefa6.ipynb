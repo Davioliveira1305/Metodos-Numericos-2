{
  "nbformat": 4,
  "nbformat_minor": 0,
  "metadata": {
    "colab": {
      "provenance": [],
      "authorship_tag": "ABX9TyMJxxRUxvSTWFKU+Jz1XUwf",
      "include_colab_link": true
    },
    "kernelspec": {
      "name": "python3",
      "display_name": "Python 3"
    },
    "language_info": {
      "name": "python"
    }
  },
  "cells": [
    {
      "cell_type": "markdown",
      "metadata": {
        "id": "view-in-github",
        "colab_type": "text"
      },
      "source": [
        "<a href=\"https://colab.research.google.com/github/Davioliveira1305/Metodos-Numericos-2/blob/main/Tarefa6.ipynb\" target=\"_parent\"><img src=\"https://colab.research.google.com/assets/colab-badge.svg\" alt=\"Open In Colab\"/></a>"
      ]
    },
    {
      "cell_type": "markdown",
      "source": [
        "# Função que será integrada pelas fórmulas de Gauss-Hermite"
      ],
      "metadata": {
        "id": "cK8qum3uU5YU"
      }
    },
    {
      "cell_type": "code",
      "source": [
        "import math\n",
        "def f(x): return x**2"
      ],
      "metadata": {
        "id": "77EU_ID_UiV0"
      },
      "execution_count": 17,
      "outputs": []
    },
    {
      "cell_type": "code",
      "execution_count": 23,
      "metadata": {
        "colab": {
          "base_uri": "https://localhost:8080/"
        },
        "id": "2WpwMzybT88G",
        "outputId": "212e963e-4c30-4e85-c089-13d9bd7ae6c7"
      },
      "outputs": [
        {
          "output_type": "stream",
          "name": "stdout",
          "text": [
            "0.8862266827344012\n"
          ]
        }
      ],
      "source": [
        "def hermite(degree):\n",
        "  if degree == 2:\n",
        "    # Raízes do polinômio de Hermite de grau 2\n",
        "    x_1 = -1/math.sqrt(2)\n",
        "    x_2 = 1/math.sqrt(2)\n",
        "    # Pesos associados as raízes do polinômio de Hermite de grau 2\n",
        "    w = [(math.sqrt(math.pi))/2, (math.sqrt(math.pi))/2]\n",
        "    print(f(x_2))\n",
        "    return f(x_1)*w[0] + f(x_2)*w[1]\n",
        "\n",
        "  elif degree == 3:\n",
        "    # Raízes do polinômio de Hermite de grau 3\n",
        "    x_1 = -math.sqrt(3/2)\n",
        "    x_2 = 0\n",
        "    x_3 = math.sqrt(3/2)\n",
        "    # Pesos associados as raízes do polinômio de Hermite de grau 3\n",
        "    w = [(math.sqrt(math.pi))/6, (2*math.sqrt(math.pi))/3, (math.sqrt(math.pi))/6]\n",
        "    return f(x_1)*w[0] + f(x_2)*w[1] + f(x_3)*w[2]\n",
        "\n",
        "  else:\n",
        "    # Raízes do polinômio de Hermite de grau 4\n",
        "    x_1 = math.sqrt((3-math.sqrt(6))/2)\n",
        "    x_2 = -math.sqrt((3-math.sqrt(6))/2)\n",
        "    x_3 = math.sqrt((3+math.sqrt(6))/2)\n",
        "    x_4 = -math.sqrt((3+math.sqrt(6))/2)\n",
        "    # Pesos associados as raízes do polinômio de Hermite de grau 3\n",
        "    w = [0.804914, 0.804914, 0.0813128, 0.0813128]\n",
        "    return f(x_1)*w[0] + f(x_2)*w[1] + f(x_3)*w[2] + f(x_4)*w[3]\n",
        "\n",
        "\n",
        "print(hermite(4))"
      ]
    }
  ]
}
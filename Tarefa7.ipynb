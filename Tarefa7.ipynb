{
  "nbformat": 4,
  "nbformat_minor": 0,
  "metadata": {
    "colab": {
      "provenance": [],
      "authorship_tag": "ABX9TyPKNlI9MtErF0DDLQb4Ncd4",
      "include_colab_link": true
    },
    "kernelspec": {
      "name": "python3",
      "display_name": "Python 3"
    },
    "language_info": {
      "name": "python"
    }
  },
  "cells": [
    {
      "cell_type": "markdown",
      "metadata": {
        "id": "view-in-github",
        "colab_type": "text"
      },
      "source": [
        "<a href=\"https://colab.research.google.com/github/Davioliveira1305/Metodos-Numericos-2/blob/main/Tarefa7.ipynb\" target=\"_parent\"><img src=\"https://colab.research.google.com/assets/colab-badge.svg\" alt=\"Open In Colab\"/></a>"
      ]
    },
    {
      "cell_type": "markdown",
      "source": [
        "# Funções Hiperbólicas"
      ],
      "metadata": {
        "id": "uhhQdQ6ZRsxc"
      }
    },
    {
      "source": [
        "import numpy as np\n",
        "\n",
        "# Hiperbólica seno\n",
        "def sinh(x):\n",
        "    return (np.exp(x) - np.exp(-x)) / 2\n",
        "\n",
        "# Hiperbólica cosseno\n",
        "def cosh(x):\n",
        "    return (np.exp(x) + np.exp(-x)) / 2\n",
        "\n",
        "# Hiperbólica tangente\n",
        "def tanh(x):\n",
        "    return sinh(x) / cosh(x)\n"
      ],
      "cell_type": "code",
      "metadata": {
        "id": "WZu4L2KpRp8-"
      },
      "execution_count": null,
      "outputs": []
    },
    {
      "cell_type": "markdown",
      "source": [
        "## Fórmulas de Gauss-Legendre de 2 a 4 pontos"
      ],
      "metadata": {
        "id": "Bz7Bbhdi1IY2"
      }
    },
    {
      "cell_type": "code",
      "execution_count": null,
      "metadata": {
        "id": "p4irrxIjP7yk"
      },
      "outputs": [],
      "source": [
        "import math\n",
        "def formulas_gl(f, n, a , b):\n",
        "  interval = (b - a)/2\n",
        "  if n == 2:\n",
        "    # Vetor de pesos referente a fórmula de Gauss-Legendre com dois pontos\n",
        "    w = [1, 1]\n",
        "    # x(a1) e x(a2)\n",
        "    x_a1 = ((a + b)/2) - (((b - a)/2)*math.sqrt(1/3))\n",
        "    x_a2 = ((a + b)/2) + (((b - a)/2)*math.sqrt(1/3))\n",
        "    return interval * (f(x_a1)*w[0] + f(x_a2)*w[1])\n",
        "  elif n == 3:\n",
        "    # Vetor de pesos referente a fórmula de Gauss-Legendre com 3 pontos\n",
        "    w = [5/9, 8/9, 5/9]\n",
        "    # x(a1), x(a2) e x(a3)\n",
        "    x_a1 = ((a + b)/2) - ((b - a)/2)*math.sqrt(3/5)\n",
        "    x_a2 = (a + b)/2\n",
        "    x_a3 = ((a + b)/2) + ((b - a)/2)*math.sqrt(3/5)\n",
        "    return interval * (f(x_a1)*w[0] + f(x_a2)*w[1] + f(x_a3)*w[2])\n",
        "\n",
        "  else:\n",
        "    # Vetor de pesos referente a fórmula de Gauss-Legendre com 3 pontos\n",
        "    w = [0.6521451549, 0.6521451549, 0.3478548451, 0.3478548451]\n",
        "    # x(a1), x(a2), x(a3) e x(a4)\n",
        "    x_a1 = ((a + b)/2) + (((b - a)/2)*math.sqrt((3/7)-(2/7)*math.sqrt(6/5)))\n",
        "    x_a2 = ((a + b)/2) - (((b - a)/2)*math.sqrt((3/7)-(2/7)*math.sqrt(6/5)))\n",
        "    x_a3 = ((a + b)/2) + (((b - a)/2)*math.sqrt((3/7)+(2/7)*math.sqrt(6/5)))\n",
        "    x_a4 = ((a + b)/2) - (((b - a)/2)*math.sqrt((3/7)+(2/7)*math.sqrt(6/5)))\n",
        "    return interval*(f(x_a1)*w[0] + f(x_a2)*w[1] + f(x_a3)*w[2] + f(x_a4)*w[3])"
      ]
    },
    {
      "cell_type": "code",
      "source": [
        "import warnings, numba\n",
        "import numpy\n",
        "warnings.filterwarnings('ignore')\n",
        "# Lib para acelerar códigos python\n",
        "@numba.jit\n",
        "def gauss_legendre(f, a, b, points):\n",
        "  # Inicializando o erro em 10\n",
        "  E = 10\n",
        "  # Vetor para guardar o intervalo de integração\n",
        "  interval = [a, b]\n",
        "  # Inicializando com o número de partições igual a 1\n",
        "  N = 1\n",
        "  # Inicializando da variável que vai guardas as soluções antigas\n",
        "  Sol_old = 0\n",
        "  # Inicializando da variável que vai guardas as soluções novas\n",
        "  Sol_new = 0\n",
        "  # Contador de iterações\n",
        "  i = 0\n",
        "  while E > 1e-6:\n",
        "    Sol_new = 0\n",
        "    # Particiona o intervalo de integração em relação ao número de partições\n",
        "    partitions = numpy.linspace(interval[0], interval[1], N + 1)\n",
        "    # Pecorre as partições\n",
        "    for i in range(len(partitions) - 1):\n",
        "        a = partitions[i+0]\n",
        "        b = partitions[i+1]\n",
        "        # Soma o resulta da interpolação nas diversas partições\n",
        "        Sol_new += formulas_gl(f,points, a , b)\n",
        "    # Aumenta o número de partições\n",
        "    N = N * 2\n",
        "    # Calcula o erro relativos da solução\n",
        "    E = abs(1 - Sol_old/Sol_new)\n",
        "    # Atualiza a solução antiga\n",
        "    Sol_old = Sol_new\n",
        "    i += 1\n",
        "  return Sol_new, i, E"
      ],
      "metadata": {
        "id": "X3ddqdm4QX7y"
      },
      "execution_count": 108,
      "outputs": []
    },
    {
      "cell_type": "markdown",
      "source": [
        "# Exponencial Simples\n"
      ],
      "metadata": {
        "id": "Cb4_eG7MTFoY"
      }
    },
    {
      "cell_type": "markdown",
      "source": [
        "## Função que queremos integrar:\n",
        "$$\\int^{0}_{-2} \\frac{dx}{\\sqrt{4 - x^{2}}}$$"
      ],
      "metadata": {
        "id": "OcG2xtwAd7FH"
      }
    },
    {
      "cell_type": "markdown",
      "source": [
        "## Intervalo de Integração"
      ],
      "metadata": {
        "id": "oVw3Wt5x0LR3"
      }
    },
    {
      "cell_type": "code",
      "source": [
        "a = -2\n",
        "b = 0"
      ],
      "metadata": {
        "id": "Aog37gmId5Zv"
      },
      "execution_count": 109,
      "outputs": []
    },
    {
      "cell_type": "markdown",
      "source": [
        "## Função que será integrada"
      ],
      "metadata": {
        "id": "gsRqSc0U0QlP"
      }
    },
    {
      "cell_type": "code",
      "source": [
        "def func(x):\n",
        "  return 1/(math.sqrt(4 - x**2))"
      ],
      "metadata": {
        "id": "uHJXDW4Vnaxj"
      },
      "execution_count": 110,
      "outputs": []
    },
    {
      "cell_type": "markdown",
      "source": [
        "## Mudança de variável, utilizando a estratégia de exponencial simples"
      ],
      "metadata": {
        "id": "Fo18ggII0Teo"
      }
    },
    {
      "cell_type": "code",
      "source": [
        "def mud_variavel(s, a, b):\n",
        "  return ((a + b)/2) + ((b - a)/2)*tanh(s)\n",
        "\n",
        "def exp_simples(s, a = a, b = b):\n",
        "  # Mudança de variável\n",
        "  x_s = mud_variavel(s, a, b)\n",
        "  # Derivada em relação a s\n",
        "  deri = ((b - a)/2) * (1/((cosh(s))**2))\n",
        "  return func(x_s) * deri\n"
      ],
      "metadata": {
        "id": "g0lZ3bzITZiS"
      },
      "execution_count": 111,
      "outputs": []
    },
    {
      "cell_type": "markdown",
      "source": [
        "## Definição do melhor intervalo de integração depois da mudança de variável"
      ],
      "metadata": {
        "id": "n_61jYFH03TF"
      }
    },
    {
      "cell_type": "code",
      "source": [
        "def convergencia(simples = True):\n",
        "  c = 1\n",
        "  new_result = 0\n",
        "  old_result = 0\n",
        "  while True:\n",
        "    if simples:\n",
        "      new_result = gauss_legendre(exp_simples, -c, c, 4)[0]\n",
        "      E = abs((new_result - old_result)/new_result)\n",
        "      old_result = new_result\n",
        "      if E < 1e-5: break\n",
        "      c = c + 1\n",
        "      print(f'Solução = {new_result}, intervalo de integração = [{-c}, {c}]')\n",
        "convergencia()"
      ],
      "metadata": {
        "colab": {
          "base_uri": "https://localhost:8080/"
        },
        "id": "Em6Y_0o3neFc",
        "outputId": "3f63d394-d835-4df9-ec99-fd953365e9a8"
      },
      "execution_count": 124,
      "outputs": [
        {
          "output_type": "stream",
          "name": "stdout",
          "text": [
            "Solução = 0.9580559289173585, intervalo de integração = [-2, 2]\n",
            "Solução = 1.362859746496995, intervalo de integração = [-3, 3]\n",
            "Solução = 1.4979867576737396, intervalo de integração = [-4, 4]\n",
            "Solução = 1.5445623715005878, intervalo de integração = [-5, 5]\n",
            "Solução = 1.5612222131469198, intervalo de integração = [-6, 6]\n",
            "Solução = 1.567284706648648, intervalo de integração = [-7, 7]\n",
            "Solução = 1.569505899872518, intervalo de integração = [-8, 8]\n",
            "Solução = 1.5703217985174749, intervalo de integração = [-9, 9]\n",
            "Solução = 1.5706217837471892, intervalo de integração = [-10, 10]\n",
            "Solução = 1.570732119537194, intervalo de integração = [-11, 11]\n",
            "Solução = 1.570772706743193, intervalo de integração = [-12, 12]\n"
          ]
        }
      ]
    },
    {
      "cell_type": "code",
      "source": [
        "print(gauss_legendre(exp_simples, -20, 20, 4))"
      ],
      "metadata": {
        "id": "yxejh9lHZxJb"
      },
      "execution_count": null,
      "outputs": []
    },
    {
      "cell_type": "code",
      "source": [],
      "metadata": {
        "id": "iyWLehLhn-dk"
      },
      "execution_count": null,
      "outputs": []
    }
  ]
}
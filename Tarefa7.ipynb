{
  "nbformat": 4,
  "nbformat_minor": 0,
  "metadata": {
    "colab": {
      "provenance": [],
      "authorship_tag": "ABX9TyPKjeufk3iS7C2QuQry3HkL",
      "include_colab_link": true
    },
    "kernelspec": {
      "name": "python3",
      "display_name": "Python 3"
    },
    "language_info": {
      "name": "python"
    }
  },
  "cells": [
    {
      "cell_type": "markdown",
      "metadata": {
        "id": "view-in-github",
        "colab_type": "text"
      },
      "source": [
        "<a href=\"https://colab.research.google.com/github/Davioliveira1305/Metodos-Numericos-2/blob/main/Tarefa7.ipynb\" target=\"_parent\"><img src=\"https://colab.research.google.com/assets/colab-badge.svg\" alt=\"Open In Colab\"/></a>"
      ]
    },
    {
      "cell_type": "markdown",
      "source": [
        "# Funções Hiperbólicas"
      ],
      "metadata": {
        "id": "uhhQdQ6ZRsxc"
      }
    },
    {
      "source": [
        "import numpy as np\n",
        "\n",
        "# Hiperbólica seno\n",
        "def sinh(x):\n",
        "    return (np.exp(x) - np.exp(-x)) / 2\n",
        "\n",
        "# Hiperbólica cosseno\n",
        "def cosh(x):\n",
        "    return (np.exp(x) + np.exp(-x)) / 2\n",
        "\n",
        "# Hiperbólica tangente\n",
        "def tanh(x):\n",
        "    return sinh(x) / cosh(x)\n"
      ],
      "cell_type": "code",
      "metadata": {
        "id": "WZu4L2KpRp8-"
      },
      "execution_count": 58,
      "outputs": []
    },
    {
      "cell_type": "markdown",
      "source": [
        "## Fórmulas de Gauss-Legendre de 2 a 4 pontos"
      ],
      "metadata": {
        "id": "Bz7Bbhdi1IY2"
      }
    },
    {
      "cell_type": "code",
      "execution_count": 59,
      "metadata": {
        "id": "p4irrxIjP7yk"
      },
      "outputs": [],
      "source": [
        "import math\n",
        "def formulas_gl(f, n, a , b):\n",
        "  interval = (b - a)/2\n",
        "  if n == 2:\n",
        "    # Vetor de pesos referente a fórmula de Gauss-Legendre com dois pontos\n",
        "    w = [1, 1]\n",
        "    # x(a1) e x(a2)\n",
        "    x_a1 = ((a + b)/2) - (((b - a)/2)*math.sqrt(1/3))\n",
        "    x_a2 = ((a + b)/2) + (((b - a)/2)*math.sqrt(1/3))\n",
        "    return interval * (f(x_a1)*w[0] + f(x_a2)*w[1])\n",
        "  elif n == 3:\n",
        "    # Vetor de pesos referente a fórmula de Gauss-Legendre com 3 pontos\n",
        "    w = [5/9, 8/9, 5/9]\n",
        "    # x(a1), x(a2) e x(a3)\n",
        "    x_a1 = ((a + b)/2) - ((b - a)/2)*math.sqrt(3/5)\n",
        "    x_a2 = (a + b)/2\n",
        "    x_a3 = ((a + b)/2) + ((b - a)/2)*math.sqrt(3/5)\n",
        "    return interval * (f(x_a1)*w[0] + f(x_a2)*w[1] + f(x_a3)*w[2])\n",
        "\n",
        "  else:\n",
        "    # Vetor de pesos referente a fórmula de Gauss-Legendre com 3 pontos\n",
        "    w = [0.6521451549, 0.6521451549, 0.3478548451, 0.3478548451]\n",
        "    # x(a1), x(a2), x(a3) e x(a4)\n",
        "    x_a1 = ((a + b)/2) + (((b - a)/2)*math.sqrt((3/7)-(2/7)*math.sqrt(6/5)))\n",
        "    x_a2 = ((a + b)/2) - (((b - a)/2)*math.sqrt((3/7)-(2/7)*math.sqrt(6/5)))\n",
        "    x_a3 = ((a + b)/2) + (((b - a)/2)*math.sqrt((3/7)+(2/7)*math.sqrt(6/5)))\n",
        "    x_a4 = ((a + b)/2) - (((b - a)/2)*math.sqrt((3/7)+(2/7)*math.sqrt(6/5)))\n",
        "    return interval*(f(x_a1)*w[0] + f(x_a2)*w[1] + f(x_a3)*w[2] + f(x_a4)*w[3])"
      ]
    },
    {
      "cell_type": "markdown",
      "source": [
        "## Função para particionar o intervalo de integração e para garantir a convergência até o erro especificado."
      ],
      "metadata": {
        "id": "ZxRzy0PN3Mq5"
      }
    },
    {
      "cell_type": "code",
      "source": [
        "import warnings, numba\n",
        "import numpy\n",
        "warnings.filterwarnings('ignore')\n",
        "# Lib para acelerar códigos python\n",
        "@numba.jit\n",
        "def gauss_legendre(f, a, b, points):\n",
        "  # Inicializando o erro em 10\n",
        "  E = 10\n",
        "  # Vetor para guardar o intervalo de integração\n",
        "  interval = [a, b]\n",
        "  # Inicializando com o número de partições igual a 1\n",
        "  N = 1\n",
        "  # Inicializando da variável que vai guardas as soluções antigas\n",
        "  Sol_old = 0\n",
        "  # Inicializando da variável que vai guardas as soluções novas\n",
        "  Sol_new = 0\n",
        "  # Contador de iterações\n",
        "  i = 0\n",
        "  while E > 1e-6:\n",
        "    Sol_new = 0\n",
        "    # Particiona o intervalo de integração em relação ao número de partições\n",
        "    partitions = numpy.linspace(interval[0], interval[1], N + 1)\n",
        "    # Pecorre as partições\n",
        "    for i in range(len(partitions) - 1):\n",
        "        a = partitions[i+0]\n",
        "        b = partitions[i+1]\n",
        "        # Soma o resulta da interpolação nas diversas partições\n",
        "        Sol_new += formulas_gl(f,points, a , b)\n",
        "    # Aumenta o número de partições\n",
        "    N = N * 2\n",
        "    # Calcula o erro relativos da solução\n",
        "    E = abs(1 - Sol_old/Sol_new)\n",
        "    # Atualiza a solução antiga\n",
        "    Sol_old = Sol_new\n",
        "    i += 1\n",
        "  return Sol_new, i, E"
      ],
      "metadata": {
        "id": "X3ddqdm4QX7y"
      },
      "execution_count": 60,
      "outputs": []
    },
    {
      "cell_type": "markdown",
      "source": [
        "# Função que queremos integrar:\n",
        "$$\\int^{0}_{-2} \\frac{dx}{\\sqrt{4 - x^{2}}}$$"
      ],
      "metadata": {
        "id": "OcG2xtwAd7FH"
      }
    },
    {
      "cell_type": "markdown",
      "source": [
        "## Intervalo de Integração"
      ],
      "metadata": {
        "id": "oVw3Wt5x0LR3"
      }
    },
    {
      "cell_type": "code",
      "source": [
        "a = -2\n",
        "b = 0"
      ],
      "metadata": {
        "id": "Aog37gmId5Zv"
      },
      "execution_count": 61,
      "outputs": []
    },
    {
      "cell_type": "markdown",
      "source": [
        "## Função que será integrada"
      ],
      "metadata": {
        "id": "gsRqSc0U0QlP"
      }
    },
    {
      "cell_type": "code",
      "source": [
        "def func(x):\n",
        "  return 1/(math.sqrt(4 - x**2))"
      ],
      "metadata": {
        "id": "uHJXDW4Vnaxj"
      },
      "execution_count": 62,
      "outputs": []
    },
    {
      "cell_type": "markdown",
      "source": [
        "# Exponencial Simples\n"
      ],
      "metadata": {
        "id": "Cb4_eG7MTFoY"
      }
    },
    {
      "cell_type": "markdown",
      "source": [
        "## Mudança de variável, utilizando a estratégia de exponencial simples"
      ],
      "metadata": {
        "id": "Fo18ggII0Teo"
      }
    },
    {
      "cell_type": "code",
      "source": [
        "def mud_variavel(s, a, b):\n",
        "  return ((a + b)/2) + ((b - a)/2)*tanh(s)\n",
        "\n",
        "def exp_simples(s, a = a, b = b):\n",
        "  # Mudança de variável\n",
        "  x_s = mud_variavel(s, a, b)\n",
        "  # Derivada em relação a s\n",
        "  deri = ((b - a)/2) * (1/((cosh(s))**2))\n",
        "  return func(x_s) * deri\n"
      ],
      "metadata": {
        "id": "g0lZ3bzITZiS"
      },
      "execution_count": 63,
      "outputs": []
    },
    {
      "cell_type": "markdown",
      "source": [
        "## Definição do melhor intervalo de integração depois da mudança de variável"
      ],
      "metadata": {
        "id": "n_61jYFH03TF"
      }
    },
    {
      "cell_type": "code",
      "source": [
        "def convergencia(simples = True):\n",
        "  c = 1\n",
        "  new_result = 0\n",
        "  old_result = 0\n",
        "  while True:\n",
        "    if simples:\n",
        "      new_result = gauss_legendre(exp_simples, -c, c, 4)[0]\n",
        "      E = abs((new_result - old_result)/new_result)\n",
        "      old_result = new_result\n",
        "      if E < 1e-5: break\n",
        "      c = c + 1\n",
        "      print(f'Solução = {new_result}, intervalo de integração = [{-c}, {c}]')\n",
        "    else:\n",
        "      new_result = gauss_legendre(exp_dupla, -c, c, 4)[0]\n",
        "      E = abs((new_result - old_result)/new_result)\n",
        "      old_result = new_result\n",
        "      if E < 1e-5: break\n",
        "      c = c + 0.1\n",
        "      print(f'Solução = {new_result}, intervalo de integração = [{-c}, {c}]')"
      ],
      "metadata": {
        "id": "Em6Y_0o3neFc"
      },
      "execution_count": 64,
      "outputs": []
    },
    {
      "cell_type": "code",
      "source": [
        "# Indica que queremos usar a metodologia da exponencial simples\n",
        "convergencia(True)"
      ],
      "metadata": {
        "colab": {
          "base_uri": "https://localhost:8080/"
        },
        "id": "6nTKMH_s9JFR",
        "outputId": "1c81609f-58d5-47ff-c09f-14db9f773759"
      },
      "execution_count": 65,
      "outputs": [
        {
          "output_type": "stream",
          "name": "stdout",
          "text": [
            "Solução = 0.9580559289173585, intervalo de integração = [-2, 2]\n",
            "Solução = 1.362859746496995, intervalo de integração = [-3, 3]\n",
            "Solução = 1.4979867576737396, intervalo de integração = [-4, 4]\n",
            "Solução = 1.5445623715005878, intervalo de integração = [-5, 5]\n",
            "Solução = 1.5612222131469198, intervalo de integração = [-6, 6]\n",
            "Solução = 1.567284706648648, intervalo de integração = [-7, 7]\n",
            "Solução = 1.569505899872518, intervalo de integração = [-8, 8]\n",
            "Solução = 1.5703217985174749, intervalo de integração = [-9, 9]\n",
            "Solução = 1.5706217837471892, intervalo de integração = [-10, 10]\n",
            "Solução = 1.570732119537194, intervalo de integração = [-11, 11]\n",
            "Solução = 1.570772706743193, intervalo de integração = [-12, 12]\n"
          ]
        }
      ]
    },
    {
      "cell_type": "markdown",
      "source": [
        "# Exponencial Dupla"
      ],
      "metadata": {
        "id": "nJJOEGdx3gZE"
      }
    },
    {
      "cell_type": "markdown",
      "source": [
        "## Mudança de variável, utilizando a estratégia de exponencial dupla"
      ],
      "metadata": {
        "id": "JSVsNeGm4EPZ"
      }
    },
    {
      "cell_type": "code",
      "source": [
        "def mud_variavel_d(s, a, b):\n",
        "  return ((a + b)/2) + ((b - a)/2)*tanh((math.pi/2)*sinh(s))\n",
        "\n",
        "def exp_dupla(s, a = a, b = b):\n",
        "  # Mudança de variável\n",
        "  x_s = mud_variavel_d(s, a, b)\n",
        "  # Derivada em relação a s\n",
        "  deri = ((b - a)/2) * ((math.pi/2) * ((cosh(s))/((cosh((math.pi/2)*sinh(s)))**2)))\n",
        "  return func(x_s) * deri"
      ],
      "metadata": {
        "id": "iyWLehLhn-dk"
      },
      "execution_count": 66,
      "outputs": []
    },
    {
      "cell_type": "code",
      "source": [
        "# Indica que queremos utilizar a metodologia da exponencial dupla\n",
        "convergencia(False)"
      ],
      "metadata": {
        "colab": {
          "base_uri": "https://localhost:8080/"
        },
        "id": "ZaaeoSy97ch4",
        "outputId": "21691e2d-e474-4426-a243-17afe533a72f"
      },
      "execution_count": 67,
      "outputs": [
        {
          "output_type": "stream",
          "name": "stdout",
          "text": [
            "Solução = 1.325501864500737, intervalo de integração = [-1.1, 1.1]\n",
            "Solução = 1.3835212912127144, intervalo de integração = [-1.2000000000000002, 1.2000000000000002]\n",
            "Solução = 1.4305664224282475, intervalo de integração = [-1.3000000000000003, 1.3000000000000003]\n",
            "Solução = 1.4680470194295563, intervalo de integração = [-1.4000000000000004, 1.4000000000000004]\n",
            "Solução = 1.4973278593790682, intervalo de integração = [-1.5000000000000004, 1.5000000000000004]\n",
            "Solução = 1.5196973771593236, intervalo de integração = [-1.6000000000000005, 1.6000000000000005]\n",
            "Solução = 1.5363518572023354, intervalo de integração = [-1.7000000000000006, 1.7000000000000006]\n",
            "Solução = 1.5483865285989873, intervalo de integração = [-1.8000000000000007, 1.8000000000000007]\n",
            "Solução = 1.5567878355736824, intervalo de integração = [-1.9000000000000008, 1.9000000000000008]\n",
            "Solução = 1.5624246359773484, intervalo de integração = [-2.000000000000001, 2.000000000000001]\n",
            "Solução = 1.5660392409330068, intervalo de integração = [-2.100000000000001, 2.100000000000001]\n",
            "Solução = 1.5682412435267228, intervalo de integração = [-2.200000000000001, 2.200000000000001]\n",
            "Solução = 1.5695074541655585, intervalo de integração = [-2.300000000000001, 2.300000000000001]\n",
            "Solução = 1.570189996043809, intervalo de integração = [-2.4000000000000012, 2.4000000000000012]\n",
            "Solução = 1.5705323441520944, intervalo de integração = [-2.5000000000000013, 2.5000000000000013]\n",
            "Solução = 1.5706908492576805, intervalo de integração = [-2.6000000000000014, 2.6000000000000014]\n",
            "Solução = 1.5707580040807765, intervalo de integração = [-2.7000000000000015, 2.7000000000000015]\n",
            "Solução = 1.5707837938618374, intervalo de integração = [-2.8000000000000016, 2.8000000000000016]\n"
          ]
        }
      ]
    }
  ]
}
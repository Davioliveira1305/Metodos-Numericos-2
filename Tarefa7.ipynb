{
  "nbformat": 4,
  "nbformat_minor": 0,
  "metadata": {
    "colab": {
      "provenance": [],
      "authorship_tag": "ABX9TyPODx0ddmsdL+rxBGRM5XQY",
      "include_colab_link": true
    },
    "kernelspec": {
      "name": "python3",
      "display_name": "Python 3"
    },
    "language_info": {
      "name": "python"
    }
  },
  "cells": [
    {
      "cell_type": "markdown",
      "metadata": {
        "id": "view-in-github",
        "colab_type": "text"
      },
      "source": [
        "<a href=\"https://colab.research.google.com/github/Davioliveira1305/Metodos-Numericos-2/blob/main/Tarefa7.ipynb\" target=\"_parent\"><img src=\"https://colab.research.google.com/assets/colab-badge.svg\" alt=\"Open In Colab\"/></a>"
      ]
    },
    {
      "cell_type": "markdown",
      "source": [
        "# Funções Hiperbólicas"
      ],
      "metadata": {
        "id": "uhhQdQ6ZRsxc"
      }
    },
    {
      "source": [
        "import numpy as np\n",
        "\n",
        "# Hiperbólica seno\n",
        "def sinh(x):\n",
        "    return (np.exp(x) - np.exp(-x)) / 2\n",
        "\n",
        "# Hiperbólica cosseno\n",
        "def cosh(x):\n",
        "    return (np.exp(x) + np.exp(-x)) / 2\n",
        "\n",
        "# Hiperbólica tangente\n",
        "def tanh(x):\n",
        "    return sinh(x) / cosh(x)\n"
      ],
      "cell_type": "code",
      "metadata": {
        "id": "WZu4L2KpRp8-"
      },
      "execution_count": 1,
      "outputs": []
    },
    {
      "cell_type": "markdown",
      "source": [
        "# Fórmulas de Newton-Cotes"
      ],
      "metadata": {
        "id": "CIchDSEtR7QL"
      }
    },
    {
      "cell_type": "code",
      "source": [
        "def pol_inter_closed(f,points, div, degree):\n",
        "  # Intervalo\n",
        "  h = (points[-1] - points[0])/div\n",
        "  if degree == 1: return h*(f(points[0]) + f(points[1]))\n",
        "  elif degree == 2: return h*(f(points[0]) + 4 * f(points[1]) + f(points[2]))\n",
        "  elif degree == 3: return h*(f(points[0]) + 3 * f(points[1]) + 3 * f(points[2]) + f(points[3]))\n",
        "  else: return h*(7 * f(points[0]) + 32 * f(points[1]) + 12 * f(points[2]) + 32 * f(points[3]) + 7 * f(points[4]))\n",
        "\n",
        "import warnings, numba\n",
        "import numpy\n",
        "\n",
        "warnings.filterwarnings('ignore')\n",
        "# Lib para acelerar códigos python\n",
        "@numba.jit\n",
        "def newton_cotes_closed(f, a, b, degree):\n",
        "  # Inicializando o erro em 10\n",
        "  E = 10\n",
        "  # Vetor para guardar o intervalo de integração\n",
        "  interval = [a, b]\n",
        "  # Inicializando com o número de partições igual a 1\n",
        "  N = 1\n",
        "  # Definindo do termo que vamos dividir o intervalo h do polinômio interpolador\n",
        "  if degree == 1: div = 2\n",
        "  elif degree == 2: div = 6\n",
        "  elif degree == 3: div = 8\n",
        "  elif degree == 4: div = 90\n",
        "  # Inicializando da variável que vai guardas as soluções antigas\n",
        "  Sol_old = 0\n",
        "  # Inicializando da variável que vai guardas as soluções novas\n",
        "  Sol_new = 0\n",
        "  while E > 1e-6:\n",
        "    Sol_new = 0\n",
        "    # Particiona o intervalo de integração em relação ao número de partições\n",
        "    partitions = numpy.linspace(interval[0], interval[1], N + 1)\n",
        "    # Pecorre as partições\n",
        "    for i in range(len(partitions) - 1):\n",
        "        a = partitions[i+0]\n",
        "        b = partitions[i+1]\n",
        "        # Retorna os pontos que serão utilizados no polinômio interpolador\n",
        "        f_points = numpy.linspace(a, b, degree + 1)\n",
        "        # Soma o resulta da interpolação nas diversas partições\n",
        "        Sol_new += pol_inter_closed(f, f_points,div,degree)\n",
        "    # Aumenta o número de partições\n",
        "    N = N * 2\n",
        "    # Calcula o erro relativos da solução\n",
        "    E = abs(1 - Sol_old/Sol_new)\n",
        "    # Atualiza a solução antiga\n",
        "    Sol_old = Sol_new\n",
        "  return Sol_new, N, E"
      ],
      "metadata": {
        "id": "f2M1Gk9OR_yF"
      },
      "execution_count": 3,
      "outputs": []
    },
    {
      "cell_type": "markdown",
      "source": [
        "# Funções que queremos integrar:\n",
        "$$\\int^{1}_{-1}\\frac{dx}{\\sqrt[3]{x^{2}}}$$\n",
        "$$\\int^{0}_{-2} \\frac{dx}{\\sqrt{4 - x^{2}}}$$\n"
      ],
      "metadata": {
        "id": "OcG2xtwAd7FH"
      }
    },
    {
      "cell_type": "markdown",
      "source": [
        "## Intervalo de Integração da primeira função."
      ],
      "metadata": {
        "id": "oVw3Wt5x0LR3"
      }
    },
    {
      "cell_type": "code",
      "source": [
        "# O intervalo foi modificado, pois, a singularidade encontra-se no ponto x = 0\n",
        "a = 0\n",
        "b = 1"
      ],
      "metadata": {
        "id": "Aog37gmId5Zv"
      },
      "execution_count": 60,
      "outputs": []
    },
    {
      "cell_type": "markdown",
      "source": [
        "## Função que será integrada"
      ],
      "metadata": {
        "id": "gsRqSc0U0QlP"
      }
    },
    {
      "cell_type": "code",
      "source": [
        "# A função foi modificado para suportar o novo intervalo de intervalo\n",
        "def func(x):\n",
        "  return 2 * (1/(((x ** 2))**(1/3)))"
      ],
      "metadata": {
        "id": "uHJXDW4Vnaxj"
      },
      "execution_count": 61,
      "outputs": []
    },
    {
      "cell_type": "markdown",
      "source": [
        "# Exponencial Simples\n"
      ],
      "metadata": {
        "id": "Cb4_eG7MTFoY"
      }
    },
    {
      "cell_type": "markdown",
      "source": [
        "## Mudança de variável, utilizando a estratégia de exponencial simples"
      ],
      "metadata": {
        "id": "Fo18ggII0Teo"
      }
    },
    {
      "cell_type": "code",
      "source": [
        "def mud_variavel(s, a, b):\n",
        "  return ((a + b)/2) + ((b - a)/2)*tanh(s)\n",
        "\n",
        "def exp_simples(s, a = a, b = b):\n",
        "  # Mudança de variável\n",
        "  x_s = mud_variavel(s, a, b)\n",
        "  # Derivada em relação a s\n",
        "  deri = ((b - a)/2) * (1/((cosh(s))**2))\n",
        "  return func(x_s) * deri\n"
      ],
      "metadata": {
        "id": "g0lZ3bzITZiS"
      },
      "execution_count": 69,
      "outputs": []
    },
    {
      "cell_type": "markdown",
      "source": [
        "# Exponencial Dupla"
      ],
      "metadata": {
        "id": "nJJOEGdx3gZE"
      }
    },
    {
      "cell_type": "markdown",
      "source": [
        "## Mudança de variável, utilizando a estratégia de exponencial dupla"
      ],
      "metadata": {
        "id": "JSVsNeGm4EPZ"
      }
    },
    {
      "cell_type": "code",
      "source": [
        "def mud_variavel_d(s, a, b):\n",
        "  return ((a + b)/2) + ((b - a)/2)*tanh((math.pi/2)*sinh(s))\n",
        "\n",
        "def exp_dupla(s, a = a, b = b):\n",
        "  # Mudança de variável\n",
        "  x_s = mud_variavel_d(s, a, b)\n",
        "  # Derivada em relação a s\n",
        "  deri = ((b - a)/2) * ((math.pi/2) * ((cosh(s))/((cosh((math.pi/2)*sinh(s)))**2)))\n",
        "  return func(x_s) * deri"
      ],
      "metadata": {
        "id": "iyWLehLhn-dk"
      },
      "execution_count": 70,
      "outputs": []
    },
    {
      "cell_type": "markdown",
      "source": [
        "## Definição do melhor intervalo de integração depois da mudança de variável"
      ],
      "metadata": {
        "id": "n_61jYFH03TF"
      }
    },
    {
      "cell_type": "code",
      "source": [
        "import numpy\n",
        "import math\n",
        "def convergencia(simples = True):\n",
        "  c = 1\n",
        "  new_result = 0\n",
        "  old_result = 0\n",
        "  while True:\n",
        "    if simples:\n",
        "      new_result = newton_cotes_closed(exp_simples, -c, c, 4)[0]\n",
        "      E = abs((new_result - old_result)/new_result)\n",
        "      if np.isnan(new_result) or math.isinf(new_result): break\n",
        "      old_result = new_result\n",
        "      if E < 1e-5: break\n",
        "      c = c + 0.1\n",
        "      print(f'Solução = {new_result}, intervalo de integração = [{-c}, {c}]')\n",
        "    else:\n",
        "      new_result = newton_cotes_closed(exp_dupla, -c, c, 4)[0]\n",
        "      E = abs((new_result - old_result)/new_result)\n",
        "      if np.isnan(new_result) or math.isinf(new_result): break\n",
        "      old_result = new_result\n",
        "      if E < 1e-5: break\n",
        "      c = c + 0.1\n",
        "      print(f'Solução = {new_result}, intervalo de integração = [{-c}, {c}]')"
      ],
      "metadata": {
        "id": "Em6Y_0o3neFc"
      },
      "execution_count": 71,
      "outputs": []
    },
    {
      "cell_type": "markdown",
      "source": [
        "# Teste da primeira função"
      ],
      "metadata": {
        "id": "Eg3-P8OtQ8U6"
      }
    },
    {
      "cell_type": "markdown",
      "source": [
        "## Teste utilizando a estratégia da exponencial simples"
      ],
      "metadata": {
        "id": "3usXyp-6RArP"
      }
    },
    {
      "cell_type": "code",
      "source": [
        "convergencia(True)"
      ],
      "metadata": {
        "colab": {
          "base_uri": "https://localhost:8080/"
        },
        "id": "db0YR7goQ_Fe",
        "outputId": "6157b3bd-580e-43bd-b03a-81418ea855db"
      },
      "execution_count": 65,
      "outputs": [
        {
          "output_type": "stream",
          "name": "stdout",
          "text": [
            "Solução = 2.7985518930487463, intervalo de integração = [-1.1, 1.1]\n",
            "Solução = 3.0108364764540716, intervalo de integração = [-1.2000000000000002, 1.2000000000000002]\n",
            "Solução = 3.2097607673707924, intervalo de integração = [-1.3000000000000003, 1.3000000000000003]\n",
            "Solução = 3.3958239869139977, intervalo de integração = [-1.4000000000000004, 1.4000000000000004]\n",
            "Solução = 3.5696184779044007, intervalo de integração = [-1.5000000000000004, 1.5000000000000004]\n",
            "Solução = 3.7317919818323664, intervalo de integração = [-1.6000000000000005, 1.6000000000000005]\n",
            "Solução = 3.883018229611651, intervalo de integração = [-1.7000000000000006, 1.7000000000000006]\n",
            "Solução = 4.02397491635241, intervalo de integração = [-1.8000000000000007, 1.8000000000000007]\n",
            "Solução = 4.155327948131001, intervalo de integração = [-1.9000000000000008, 1.9000000000000008]\n",
            "Solução = 4.277720581403185, intervalo de integração = [-2.000000000000001, 2.000000000000001]\n",
            "Solução = 4.391766552854023, intervalo de integração = [-2.100000000000001, 2.100000000000001]\n",
            "Solução = 4.498046075860425, intervalo de integração = [-2.200000000000001, 2.200000000000001]\n",
            "Solução = 4.597103975872814, intervalo de integração = [-2.300000000000001, 2.300000000000001]\n",
            "Solução = 4.689449329448384, intervalo de integração = [-2.4000000000000012, 2.4000000000000012]\n",
            "Solução = 4.775556127080611, intervalo de integração = [-2.5000000000000013, 2.5000000000000013]\n",
            "Solução = 4.855864600717825, intervalo de integração = [-2.6000000000000014, 2.6000000000000014]\n",
            "Solução = 4.930782953485685, intervalo de integração = [-2.7000000000000015, 2.7000000000000015]\n",
            "Solução = 5.000689304207773, intervalo de integração = [-2.8000000000000016, 2.8000000000000016]\n",
            "Solução = 5.06593371629016, intervalo de integração = [-2.9000000000000017, 2.9000000000000017]\n",
            "Solução = 5.126840222895722, intervalo de integração = [-3.0000000000000018, 3.0000000000000018]\n",
            "Solução = 5.183708791249991, intervalo de integração = [-3.100000000000002, 3.100000000000002]\n",
            "Solução = 5.236817191076805, intervalo de integração = [-3.200000000000002, 3.200000000000002]\n",
            "Solução = 5.286422747738996, intervalo de integração = [-3.300000000000002, 3.300000000000002]\n",
            "Solução = 5.332763971373477, intervalo de integração = [-3.400000000000002, 3.400000000000002]\n",
            "Solução = 5.3760620604827345, intervalo de integração = [-3.500000000000002, 3.500000000000002]\n",
            "Solução = 5.416522283336186, intervalo de integração = [-3.6000000000000023, 3.6000000000000023]\n",
            "Solução = 5.45433524148815, intervalo de integração = [-3.7000000000000024, 3.7000000000000024]\n",
            "Solução = 5.489678027046212, intervalo de integração = [-3.8000000000000025, 3.8000000000000025]\n",
            "Solução = 5.5227152763814695, intervalo de integração = [-3.9000000000000026, 3.9000000000000026]\n",
            "Solução = 5.553600132866585, intervalo de integração = [-4.000000000000003, 4.000000000000003]\n",
            "Solução = 5.5824751251865345, intervalo de integração = [-4.100000000000002, 4.100000000000002]\n",
            "Solução = 5.609472969297322, intervalo de integração = [-4.200000000000002, 4.200000000000002]\n",
            "Solução = 5.634717301293409, intervalo de integração = [-4.300000000000002, 4.300000000000002]\n",
            "Solução = 5.658323347851889, intervalo de integração = [-4.400000000000001, 4.400000000000001]\n",
            "Solução = 5.680398540316264, intervalo de integração = [-4.500000000000001, 4.500000000000001]\n",
            "Solução = 5.70104307789355, intervalo de integração = [-4.6000000000000005, 4.6000000000000005]\n",
            "Solução = 5.720350444881773, intervalo de integração = [-4.7, 4.7]\n",
            "Solução = 5.738407886329271, intervalo de integração = [-4.8, 4.8]\n",
            "Solução = 5.755296846058027, intervalo de integração = [-4.8999999999999995, 4.8999999999999995]\n",
            "Solução = 5.771093370559184, intervalo de integração = [-4.999999999999999, 4.999999999999999]\n",
            "Solução = 5.785868481889381, intervalo de integração = [-5.099999999999999, 5.099999999999999]\n",
            "Solução = 5.7996885223599515, intervalo de integração = [-5.199999999999998, 5.199999999999998]\n",
            "Solução = 5.812615473511643, intervalo de integração = [-5.299999999999998, 5.299999999999998]\n",
            "Solução = 5.824707251604413, intervalo de integração = [-5.399999999999998, 5.399999999999998]\n",
            "Solução = 5.8360179816173, intervalo de integração = [-5.499999999999997, 5.499999999999997]\n",
            "Solução = 5.846598251551223, intervalo de integração = [-5.599999999999997, 5.599999999999997]\n",
            "Solução = 5.85649534864328, intervalo de integração = [-5.699999999999997, 5.699999999999997]\n",
            "Solução = 5.8657534789469725, intervalo de integração = [-5.799999999999996, 5.799999999999996]\n",
            "Solução = 5.874413971585081, intervalo de integração = [-5.899999999999996, 5.899999999999996]\n",
            "Solução = 5.88251546886845, intervalo de integração = [-5.999999999999996, 5.999999999999996]\n",
            "Solução = 5.890094103350241, intervalo de integração = [-6.099999999999995, 6.099999999999995]\n",
            "Solução = 5.897183662804022, intervalo de integração = [-6.199999999999995, 6.199999999999995]\n",
            "Solução = 5.903815744011693, intervalo de integração = [-6.2999999999999945, 6.2999999999999945]\n",
            "Solução = 5.910019896184802, intervalo de integração = [-6.399999999999994, 6.399999999999994]\n",
            "Solução = 5.915823754758837, intervalo de integração = [-6.499999999999994, 6.499999999999994]\n",
            "Solução = 5.921253166255639, intervalo de integração = [-6.599999999999993, 6.599999999999993]\n",
            "Solução = 5.926332304833056, intervalo de integração = [-6.699999999999993, 6.699999999999993]\n",
            "Solução = 5.931083781116512, intervalo de integração = [-6.799999999999993, 6.799999999999993]\n",
            "Solução = 5.935528743831512, intervalo de integração = [-6.899999999999992, 6.899999999999992]\n",
            "Solução = 5.9396869747423295, intervalo de integração = [-6.999999999999992, 6.999999999999992]\n",
            "Solução = 5.94357697727293, intervalo de integração = [-7.099999999999992, 7.099999999999992]\n",
            "Solução = 5.947216059675248, intervalo de integração = [-7.199999999999991, 7.199999999999991]\n",
            "Solução = 5.9506204120995605, intervalo de integração = [-7.299999999999991, 7.299999999999991]\n",
            "Solução = 5.953805179225276, intervalo de integração = [-7.399999999999991, 7.399999999999991]\n",
            "Solução = 5.956784527883263, intervalo de integração = [-7.49999999999999, 7.49999999999999]\n",
            "Solução = 5.959571710323248, intervalo de integração = [-7.59999999999999, 7.59999999999999]\n",
            "Solução = 5.962179123359894, intervalo de integração = [-7.6999999999999895, 7.6999999999999895]\n",
            "Solução = 5.964618363679868, intervalo de integração = [-7.799999999999989, 7.799999999999989]\n",
            "Solução = 5.966900279561267, intervalo de integração = [-7.899999999999989, 7.899999999999989]\n",
            "Solução = 5.969035019221747, intervalo de integração = [-7.9999999999999885, 7.9999999999999885]\n",
            "Solução = 5.97103207605402, intervalo de integração = [-8.099999999999989, 8.099999999999989]\n",
            "Solução = 5.972900330904763, intervalo de integração = [-8.199999999999989, 8.199999999999989]\n",
            "Solução = 5.974648091647342, intervalo de integração = [-8.299999999999988, 8.299999999999988]\n",
            "Solução = 5.9762831301604775, intervalo de integração = [-8.399999999999988, 8.399999999999988]\n",
            "Solução = 5.977812716943035, intervalo de integração = [-8.499999999999988, 8.499999999999988]\n",
            "Solução = 5.97924365346601, intervalo de integração = [-8.599999999999987, 8.599999999999987]\n",
            "Solução = 5.980582302456979, intervalo de integração = [-8.699999999999987, 8.699999999999987]\n",
            "Solução = 5.98183461619467, intervalo de integração = [-8.799999999999986, 8.799999999999986]\n",
            "Solução = 5.9830061630182865, intervalo de integração = [-8.899999999999986, 8.899999999999986]\n",
            "Solução = 5.984102152076258, intervalo de integração = [-8.999999999999986, 8.999999999999986]\n",
            "Solução = 5.985127456552619, intervalo de integração = [-9.099999999999985, 9.099999999999985]\n",
            "Solução = 5.986086635270068, intervalo de integração = [-9.199999999999985, 9.199999999999985]\n",
            "Solução = 5.986983953002518, intervalo de integração = [-9.299999999999985, 9.299999999999985]\n",
            "Solução = 5.987823399506987, intervalo de integração = [-9.399999999999984, 9.399999999999984]\n",
            "Solução = 5.988608707126403, intervalo de integração = [-9.499999999999984, 9.499999999999984]\n",
            "Solução = 5.98934336754448, intervalo de integração = [-9.599999999999984, 9.599999999999984]\n",
            "Solução = 5.9900306471966855, intervalo de integração = [-9.699999999999983, 9.699999999999983]\n",
            "Solução = 5.9906736019067655, intervalo de integração = [-9.799999999999983, 9.799999999999983]\n",
            "Solução = 5.9912750902910785, intervalo de integração = [-9.899999999999983, 9.899999999999983]\n",
            "Solução = 5.99183778675253, intervalo de integração = [-9.999999999999982, 9.999999999999982]\n",
            "Solução = 5.99236419308181, intervalo de integração = [-10.099999999999982, 10.099999999999982]\n",
            "Solução = 5.992856649740068, intervalo de integração = [-10.199999999999982, 10.199999999999982]\n",
            "Solução = 5.993317346364254, intervalo de integração = [-10.299999999999981, 10.299999999999981]\n",
            "Solução = 5.993748331159727, intervalo de integração = [-10.39999999999998, 10.39999999999998]\n",
            "Solução = 5.994151520376085, intervalo de integração = [-10.49999999999998, 10.49999999999998]\n",
            "Solução = 5.994528706682311, intervalo de integração = [-10.59999999999998, 10.59999999999998]\n",
            "Solução = 5.994881567083406, intervalo de integração = [-10.69999999999998, 10.69999999999998]\n",
            "Solução = 5.995211670396846, intervalo de integração = [-10.79999999999998, 10.79999999999998]\n",
            "Solução = 5.995520484370698, intervalo de integração = [-10.899999999999979, 10.899999999999979]\n",
            "Solução = 5.995809381785567, intervalo de integração = [-10.999999999999979, 10.999999999999979]\n",
            "Solução = 5.996079647665458, intervalo de integração = [-11.099999999999978, 11.099999999999978]\n",
            "Solução = 5.99633248300861, intervalo de integração = [-11.199999999999978, 11.199999999999978]\n",
            "Solução = 5.996569012292751, intervalo de integração = [-11.299999999999978, 11.299999999999978]\n",
            "Solução = 5.996790287196998, intervalo de integração = [-11.399999999999977, 11.399999999999977]\n",
            "Solução = 5.996997291171702, intervalo de integração = [-11.499999999999977, 11.499999999999977]\n",
            "Solução = 5.997190944916041, intervalo de integração = [-11.599999999999977, 11.599999999999977]\n",
            "Solução = 5.99737210935609, intervalo de integração = [-11.699999999999976, 11.699999999999976]\n",
            "Solução = 5.997541589770587, intervalo de integração = [-11.799999999999976, 11.799999999999976]\n",
            "Solução = 5.997700140131879, intervalo de integração = [-11.899999999999975, 11.899999999999975]\n",
            "Solução = 5.997848465309559, intervalo de integração = [-11.999999999999975, 11.999999999999975]\n",
            "Solução = 5.997987223944822, intervalo de integração = [-12.099999999999975, 12.099999999999975]\n",
            "Solução = 5.998117034022704, intervalo de integração = [-12.199999999999974, 12.199999999999974]\n",
            "Solução = 5.998238472335105, intervalo de integração = [-12.299999999999974, 12.299999999999974]\n",
            "Solução = 5.998352078726532, intervalo de integração = [-12.399999999999974, 12.399999999999974]\n",
            "Solução = 5.998458357692616, intervalo de integração = [-12.499999999999973, 12.499999999999973]\n",
            "Solução = 5.998557783637145, intervalo de integração = [-12.599999999999973, 12.599999999999973]\n",
            "Solução = 5.998650796204122, intervalo de integração = [-12.699999999999973, 12.699999999999973]\n",
            "Solução = 5.998737810020903, intervalo de integração = [-12.799999999999972, 12.799999999999972]\n",
            "Solução = 5.998819212537489, intervalo de integração = [-12.899999999999972, 12.899999999999972]\n",
            "Solução = 5.998895364272461, intervalo de integração = [-12.999999999999972, 12.999999999999972]\n",
            "Solução = 5.998966606072797, intervalo de integração = [-13.099999999999971, 13.099999999999971]\n",
            "Solução = 5.999033253692844, intervalo de integração = [-13.19999999999997, 13.19999999999997]\n",
            "Solução = 5.999095602498565, intervalo de integração = [-13.29999999999997, 13.29999999999997]\n"
          ]
        }
      ]
    },
    {
      "cell_type": "markdown",
      "source": [
        "## Teste utilizando a estratégia da exponencial dupla"
      ],
      "metadata": {
        "id": "2Ry7AwtoSbKV"
      }
    },
    {
      "cell_type": "code",
      "source": [
        "convergencia(False)"
      ],
      "metadata": {
        "colab": {
          "base_uri": "https://localhost:8080/"
        },
        "id": "b0Xv7f6ASgPy",
        "outputId": "e6ff5a7a-48b9-41ae-c39e-e553faf7342f"
      },
      "execution_count": 66,
      "outputs": [
        {
          "output_type": "stream",
          "name": "stdout",
          "text": [
            "Solução = 4.212705714625484, intervalo de integração = [-1.1, 1.1]\n",
            "Solução = 4.4960239873208225, intervalo de integração = [-1.2000000000000002, 1.2000000000000002]\n",
            "Solução = 4.7512487839368625, intervalo de integração = [-1.3000000000000003, 1.3000000000000003]\n",
            "Solução = 4.978713563051258, intervalo de integração = [-1.4000000000000004, 1.4000000000000004]\n",
            "Solução = 5.178897731421507, intervalo de integração = [-1.5000000000000004, 1.5000000000000004]\n",
            "Solução = 5.352466225240022, intervalo de integração = [-1.6000000000000005, 1.6000000000000005]\n",
            "Solução = 5.500337113147852, intervalo de integração = [-1.7000000000000006, 1.7000000000000006]\n",
            "Solução = 5.6237549406682765, intervalo de integração = [-1.8000000000000007, 1.8000000000000007]\n",
            "Solução = 5.724345514263671, intervalo de integração = [-1.9000000000000008, 1.9000000000000008]\n",
            "Solução = 5.804131031628891, intervalo de integração = [-2.000000000000001, 2.000000000000001]\n",
            "Solução = 5.865489920165714, intervalo de integração = [-2.100000000000001, 2.100000000000001]\n",
            "Solução = 5.911064770505663, intervalo de integração = [-2.200000000000001, 2.200000000000001]\n",
            "Solução = 5.943622274270278, intervalo de integração = [-2.300000000000001, 2.300000000000001]\n",
            "Solução = 5.965891361801714, intervalo de integração = [-2.4000000000000012, 2.4000000000000012]\n",
            "Solução = 5.980404592838762, intervalo de integração = [-2.5000000000000013, 2.5000000000000013]\n",
            "Solução = 5.989369217124599, intervalo de integração = [-2.6000000000000014, 2.6000000000000014]\n",
            "Solução = 5.994587000794342, intervalo de integração = [-2.7000000000000015, 2.7000000000000015]\n",
            "Solução = 5.997430556112672, intervalo de integração = [-2.8000000000000016, 2.8000000000000016]\n",
            "Solução = 5.998871417095521, intervalo de integração = [-2.9000000000000017, 2.9000000000000017]\n",
            "Solução = 5.999545042600512, intervalo de integração = [-3.0000000000000018, 3.0000000000000018]\n",
            "Solução = 5.999833297660796, intervalo de integração = [-3.100000000000002, 3.100000000000002]\n",
            "Solução = 5.999943683178171, intervalo de integração = [-3.200000000000002, 3.200000000000002]\n"
          ]
        }
      ]
    },
    {
      "cell_type": "markdown",
      "source": [
        "# Teste da segunda função"
      ],
      "metadata": {
        "id": "TgMEnHSYSr6J"
      }
    },
    {
      "cell_type": "code",
      "source": [
        "# Definição da segunda função\n",
        "def func(x): return 1/(math.sqrt(4 - x**2))"
      ],
      "metadata": {
        "id": "_6DREN9iSxq8"
      },
      "execution_count": 67,
      "outputs": []
    },
    {
      "cell_type": "markdown",
      "source": [
        "### Intervalo de integração da segunda função"
      ],
      "metadata": {
        "id": "--D16tMXTExZ"
      }
    },
    {
      "cell_type": "code",
      "source": [
        "a = -2\n",
        "b = 0"
      ],
      "metadata": {
        "id": "EhixPG6NTIna"
      },
      "execution_count": 68,
      "outputs": []
    },
    {
      "cell_type": "markdown",
      "source": [
        "## Teste utilizando a estratégia da exponencial simples"
      ],
      "metadata": {
        "id": "glW0cLMHTLyV"
      }
    },
    {
      "cell_type": "code",
      "source": [
        "convergencia(True)"
      ],
      "metadata": {
        "colab": {
          "base_uri": "https://localhost:8080/"
        },
        "id": "wJWk_5PsTP5g",
        "outputId": "8a583b45-5b34-4ce8-fd93-b4f2507cfada"
      },
      "execution_count": 72,
      "outputs": [
        {
          "output_type": "stream",
          "name": "stdout",
          "text": [
            "Solução = 0.9580559292785322, intervalo de integração = [-1.1, 1.1]\n",
            "Solução = 1.0204256160865033, intervalo de integração = [-1.2000000000000002, 1.2000000000000002]\n",
            "Solução = 1.0767917036169155, intervalo de integração = [-1.3000000000000003, 1.3000000000000003]\n",
            "Solução = 1.1275702772362228, intervalo de integração = [-1.4000000000000004, 1.4000000000000004]\n",
            "Solução = 1.1732043779239163, intervalo de integração = [-1.5000000000000004, 1.5000000000000004]\n",
            "Solução = 1.214142195657735, intervalo de integração = [-1.6000000000000005, 1.6000000000000005]\n",
            "Solução = 1.2508214174044143, intervalo de integração = [-1.7000000000000006, 1.7000000000000006]\n",
            "Solução = 1.2836587868951808, intervalo de integração = [-1.8000000000000007, 1.8000000000000007]\n",
            "Solução = 1.3130437056727222, intervalo de integração = [-1.9000000000000008, 1.9000000000000008]\n",
            "Solução = 1.339334979506111, intervalo de integração = [-2.000000000000001, 2.000000000000001]\n",
            "Solução = 1.362859746552756, intervalo de integração = [-2.100000000000001, 2.100000000000001]\n",
            "Solução = 1.3839139171997499, intervalo de integração = [-2.200000000000001, 2.200000000000001]\n",
            "Solução = 1.4027635786247243, intervalo de integração = [-2.300000000000001, 2.300000000000001]\n",
            "Solução = 1.4196469654337096, intervalo de integração = [-2.4000000000000012, 2.4000000000000012]\n",
            "Solução = 1.4347767137673988, intervalo de integração = [-2.5000000000000013, 2.5000000000000013]\n",
            "Solução = 1.4483422061805722, intervalo de integração = [-2.6000000000000014, 2.6000000000000014]\n",
            "Solução = 1.4605118816609919, intervalo de integração = [-2.7000000000000015, 2.7000000000000015]\n",
            "Solução = 1.4714354335750373, intervalo de integração = [-2.8000000000000016, 2.8000000000000016]\n",
            "Solução = 1.4812458522559528, intervalo de integração = [-2.9000000000000017, 2.9000000000000017]\n",
            "Solução = 1.490061292009749, intervalo de integração = [-3.0000000000000018, 3.0000000000000018]\n",
            "Solução = 1.4979867574534653, intervalo de integração = [-3.100000000000002, 3.100000000000002]\n",
            "Solução = 1.5051156136133677, intervalo de integração = [-3.200000000000002, 3.200000000000002]\n",
            "Solução = 1.511530930073101, intervalo de integração = [-3.300000000000002, 3.300000000000002]\n",
            "Solução = 1.5173066706588738, intervalo de integração = [-3.400000000000002, 3.400000000000002]\n",
            "Solução = 1.5225087466278056, intervalo de integração = [-3.500000000000002, 3.500000000000002]\n",
            "Solução = 1.5271959427568107, intervalo de integração = [-3.6000000000000023, 3.6000000000000023]\n",
            "Solução = 1.5314207337647119, intervalo de integração = [-3.7000000000000024, 3.7000000000000024]\n",
            "Solução = 1.5352300024611243, intervalo de integração = [-3.8000000000000025, 3.8000000000000025]\n",
            "Solução = 1.538665671575904, intervalo de integração = [-3.9000000000000026, 3.9000000000000026]\n",
            "Solução = 1.5417652598066014, intervalo de integração = [-4.000000000000003, 4.000000000000003]\n",
            "Solução = 1.5445623714612635, intervalo de integração = [-4.100000000000002, 4.100000000000002]\n",
            "Solução = 1.5470871279778162, intervalo de integração = [-4.200000000000002, 4.200000000000002]\n",
            "Solução = 1.5493665485928163, intervalo de integração = [-4.300000000000002, 4.300000000000002]\n",
            "Solução = 1.5514248865217084, intervalo de integração = [-4.400000000000001, 4.400000000000001]\n",
            "Solução = 1.5532839262008773, intervalo de integração = [-4.500000000000001, 4.500000000000001]\n",
            "Solução = 1.554963246425106, intervalo de integração = [-4.6000000000000005, 4.6000000000000005]\n",
            "Solução = 1.556480453585726, intervalo de integração = [-4.7, 4.7]\n",
            "Solução = 1.5578513886666048, intervalo de integração = [-4.8, 4.8]\n",
            "Solução = 1.5590903111787906, intervalo de integração = [-4.8999999999999995, 4.8999999999999995]\n",
            "Solução = 1.5602100628016697, intervalo de integração = [-4.999999999999999, 4.999999999999999]\n",
            "Solução = 1.5612222131410325, intervalo de integração = [-5.099999999999999, 5.099999999999999]\n",
            "Solução = 1.5621371897053613, intervalo de integração = [-5.199999999999998, 5.199999999999998]\n",
            "Solução = 1.5629643939345226, intervalo de integração = [-5.299999999999998, 5.299999999999998]\n",
            "Solução = 1.5637123048840378, intervalo de integração = [-5.399999999999998, 5.399999999999998]\n",
            "Solução = 1.5643885719681978, intervalo de integração = [-5.499999999999997, 5.499999999999997]\n",
            "Solução = 1.5650000979925787, intervalo de integração = [-5.599999999999997, 5.599999999999997]\n",
            "Solução = 1.5655531135561744, intervalo de integração = [-5.699999999999997, 5.699999999999997]\n",
            "Solução = 1.5660532437739045, intervalo de integração = [-5.799999999999996, 5.799999999999996]\n",
            "Solução = 1.5665055681563587, intervalo de integração = [-5.899999999999996, 5.899999999999996]\n",
            "Solução = 1.5669146743862108, intervalo de integração = [-5.999999999999996, 5.999999999999996]\n",
            "Solução = 1.5672847066438902, intervalo de integração = [-6.099999999999995, 6.099999999999995]\n",
            "Solução = 1.5676194090612305, intervalo de integração = [-6.199999999999995, 6.199999999999995]\n",
            "Solução = 1.5679221648151402, intervalo de integração = [-6.2999999999999945, 6.2999999999999945]\n",
            "Solução = 1.5681960313169547, intervalo de integração = [-6.399999999999994, 6.399999999999994]\n",
            "Solução = 1.5684437719016058, intervalo de integração = [-6.499999999999994, 6.499999999999994]\n",
            "Solução = 1.5686678843760475, intervalo de integração = [-6.599999999999993, 6.599999999999993]\n",
            "Solução = 1.568870626751976, intervalo de integração = [-6.699999999999993, 6.699999999999993]\n",
            "Solução = 1.5690540404451123, intervalo de integração = [-6.799999999999993, 6.799999999999993]\n",
            "Solução = 1.569219971195896, intervalo de integração = [-6.899999999999992, 6.899999999999992]\n",
            "Solução = 1.569370087945779, intervalo de integração = [-6.999999999999992, 6.999999999999992]\n",
            "Solução = 1.5695058998706355, intervalo de integração = [-7.099999999999992, 7.099999999999992]\n",
            "Solução = 1.5696287717553006, intervalo de integração = [-7.199999999999991, 7.199999999999991]\n",
            "Solução = 1.5697399378742913, intervalo de integração = [-7.299999999999991, 7.299999999999991]\n",
            "Solução = 1.5698405145262624, intervalo de integração = [-7.399999999999991, 7.399999999999991]\n",
            "Solução = 1.5699315113547634, intervalo de integração = [-7.49999999999999, 7.49999999999999]\n",
            "Solução = 1.5700138415749179, intervalo de integração = [-7.59999999999999, 7.59999999999999]\n",
            "Solução = 1.5700883312126503, intervalo de integração = [-7.6999999999999895, 7.6999999999999895]\n",
            "Solução = 1.5701557274536682, intervalo de integração = [-7.799999999999989, 7.799999999999989]\n",
            "Solução = 1.5702167061883685, intervalo de integração = [-7.899999999999989, 7.899999999999989]\n",
            "Solução = 1.5702718788310115, intervalo de integração = [-7.9999999999999885, 7.9999999999999885]\n",
            "Solução = 1.5703217984838727, intervalo de integração = [-8.099999999999989, 8.099999999999989]\n",
            "Solução = 1.5703669655095271, intervalo de integração = [-8.199999999999989, 8.199999999999989]\n",
            "Solução = 1.570407832568912, intervalo de integração = [-8.299999999999988, 8.299999999999988]\n",
            "Solução = 1.5704448091759378, intervalo de integração = [-8.399999999999988, 8.399999999999988]\n",
            "Solução = 1.5704782658166676, intervalo de integração = [-8.499999999999988, 8.499999999999988]\n",
            "Solução = 1.5705085376734045, intervalo de integração = [-8.599999999999987, 8.599999999999987]\n",
            "Solução = 1.5705359279933422, intervalo de integração = [-8.699999999999987, 8.699999999999987]\n",
            "Solução = 1.5705607111335254, intervalo de integração = [-8.799999999999986, 8.799999999999986]\n",
            "Solução = 1.5705831353172817, intervalo de integração = [-8.899999999999986, 8.899999999999986]\n",
            "Solução = 1.5706034251246785, intervalo de integração = [-8.999999999999986, 8.999999999999986]\n",
            "Solução = 1.5706217837473155, intervalo de integração = [-9.099999999999985, 9.099999999999985]\n",
            "Solução = 1.5706383950257072, intervalo de integração = [-9.199999999999985, 9.199999999999985]\n"
          ]
        }
      ]
    },
    {
      "cell_type": "markdown",
      "source": [
        "## Teste utilizando a estratégia da exponencial dupla"
      ],
      "metadata": {
        "id": "FtHI1grWT-gc"
      }
    },
    {
      "cell_type": "code",
      "source": [
        "convergencia(False)"
      ],
      "metadata": {
        "colab": {
          "base_uri": "https://localhost:8080/"
        },
        "id": "JUjbCp1mUCS_",
        "outputId": "1c5bfd41-0d74-4f87-e1a2-398c6a31c67a"
      },
      "execution_count": 73,
      "outputs": [
        {
          "output_type": "stream",
          "name": "stdout",
          "text": [
            "Solução = 1.3255018698912961, intervalo de integração = [-1.1, 1.1]\n",
            "Solução = 1.3835212994200594, intervalo de integração = [-1.2000000000000002, 1.2000000000000002]\n",
            "Solução = 1.4305664322017584, intervalo de integração = [-1.3000000000000003, 1.3000000000000003]\n",
            "Solução = 1.468047028239581, intervalo de integração = [-1.4000000000000004, 1.4000000000000004]\n",
            "Solução = 1.4973278595036303, intervalo de integração = [-1.5000000000000004, 1.5000000000000004]\n",
            "Solução = 1.5196973772247175, intervalo de integração = [-1.6000000000000005, 1.6000000000000005]\n",
            "Solução = 1.5363518500028366, intervalo de integração = [-1.7000000000000006, 1.7000000000000006]\n",
            "Solução = 1.5483865286562484, intervalo de integração = [-1.8000000000000007, 1.8000000000000007]\n",
            "Solução = 1.5567878358604346, intervalo de integração = [-1.9000000000000008, 1.9000000000000008]\n",
            "Solução = 1.5624246366035688, intervalo de integração = [-2.000000000000001, 2.000000000000001]\n",
            "Solução = 1.5660392421137421, intervalo de integração = [-2.100000000000001, 2.100000000000001]\n",
            "Solução = 1.5682412450783298, intervalo de integração = [-2.200000000000001, 2.200000000000001]\n",
            "Solução = 1.569507455550418, intervalo de integração = [-2.300000000000001, 2.300000000000001]\n",
            "Solução = 1.5701899965181088, intervalo de integração = [-2.4000000000000012, 2.4000000000000012]\n",
            "Solução = 1.5705323431143552, intervalo de integração = [-2.5000000000000013, 2.5000000000000013]\n",
            "Solução = 1.570690846617132, intervalo de integração = [-2.6000000000000014, 2.6000000000000014]\n",
            "Solução = 1.5707580040380063, intervalo de integração = [-2.7000000000000015, 2.7000000000000015]\n",
            "Solução = 1.570783793812275, intervalo de integração = [-2.8000000000000016, 2.8000000000000016]\n"
          ]
        }
      ]
    }
  ]
}
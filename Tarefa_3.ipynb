{
  "nbformat": 4,
  "nbformat_minor": 0,
  "metadata": {
    "colab": {
      "provenance": [],
      "authorship_tag": "ABX9TyOOyK3s2YUK01Wvrj1dYJnj",
      "include_colab_link": true
    },
    "kernelspec": {
      "name": "python3",
      "display_name": "Python 3"
    },
    "language_info": {
      "name": "python"
    }
  },
  "cells": [
    {
      "cell_type": "markdown",
      "metadata": {
        "id": "view-in-github",
        "colab_type": "text"
      },
      "source": [
        "<a href=\"https://colab.research.google.com/github/Davioliveira1305/Metodos-Numericos-2/blob/main/Tarefa_3.ipynb\" target=\"_parent\"><img src=\"https://colab.research.google.com/assets/colab-badge.svg\" alt=\"Open In Colab\"/></a>"
      ]
    },
    {
      "cell_type": "markdown",
      "source": [
        "# Função que queremos integrar"
      ],
      "metadata": {
        "id": "7IIw3qEpwSLR"
      }
    },
    {
      "cell_type": "code",
      "source": [
        "import math, sympy\n",
        "def f(x): return (math.sin(x)+4*(x**2)+3*x)**2\n"
      ],
      "metadata": {
        "id": "WljoTxx1rtDC"
      },
      "execution_count": 28,
      "outputs": []
    },
    {
      "cell_type": "markdown",
      "source": [
        "# Fórmulas Fechadas para integração dependendo do grau de polinômio definido."
      ],
      "metadata": {
        "id": "_3rMxpH1wZiS"
      }
    },
    {
      "cell_type": "code",
      "source": [
        "def pol_inter_closed(points, div, degree):\n",
        "  # Intervalo\n",
        "  h = (points[-1] - points[0])/div\n",
        "  if degree == 1: return h*(f(points[0]) + f(points[1]))\n",
        "  elif degree == 2: return h*(f(points[0]) + 4 * f(points[1]) + f(points[2]))\n",
        "  elif degree == 3: return h*(f(points[0]) + 3 * f(points[1]) + 3 * f(points[2]) + f(points[3]))\n",
        "  else: return h*(7 * f(points[0]) + 32 * f(points[1]) + 12 * f(points[2]) + 32 * f(points[3]) + 7 * f(points[4]))"
      ],
      "metadata": {
        "id": "uBqbX2uUS34E"
      },
      "execution_count": 29,
      "outputs": []
    },
    {
      "cell_type": "markdown",
      "source": [
        "# Newton Cotes utilizando fórmulas fechadas"
      ],
      "metadata": {
        "id": "j1M0XyB3xMQ0"
      }
    },
    {
      "cell_type": "code",
      "source": [
        "import warnings, numba\n",
        "import numpy\n",
        "\n",
        "warnings.filterwarnings('ignore')\n",
        "# Lib para acelerar códigos python\n",
        "@numba.jit\n",
        "def newton_cotes_closed(f, a, b, degree):\n",
        "  # Inicializando o erro em 10\n",
        "  E = 10\n",
        "  # Vetor para guardar o intervalo de integração\n",
        "  interval = [a, b]\n",
        "  # Inicializando com o número de partições igual a 1\n",
        "  N = 1\n",
        "  # Definindo do termo que vamos dividir o intervalo h do polinômio interpolador\n",
        "  if degree == 1: div = 2\n",
        "  elif degree == 2: div = 6\n",
        "  elif degree == 3: div = 8\n",
        "  elif degree == 4: div = 90\n",
        "  # Inicializando da variável que vai guardas as soluções antigas\n",
        "  Sol_old = 0\n",
        "  # Inicializando da variável que vai guardas as soluções novas\n",
        "  Sol_new = 0\n",
        "  while E > 1e-6:\n",
        "    Sol_new = 0\n",
        "    # Particiona o intervalo de integração em relação ao número de partições\n",
        "    partitions = numpy.linspace(interval[0], interval[1], N + 1)\n",
        "    # Pecorre as partições\n",
        "    for i in range(len(partitions) - 1):\n",
        "        a = partitions[i+0]\n",
        "        b = partitions[i+1]\n",
        "        # Retorna os pontos que serão utilizados no polinômio interpolador\n",
        "        f_points = numpy.linspace(a, b, degree + 1)\n",
        "        # Soma o resulta da interpolação nas diversas partições\n",
        "        Sol_new += pol_inter_closed(f_points,div,degree)\n",
        "    # Aumenta o número de partições\n",
        "    N = N * 2\n",
        "    # Calcula o erro relativos da solução\n",
        "    E = abs(1 - Sol_old/Sol_new)\n",
        "    # Atualiza a solução antiga\n",
        "    Sol_old = Sol_new\n",
        "  return Sol_new, N, E\n",
        "\n"
      ],
      "metadata": {
        "id": "3tqWzFgh9ZTB"
      },
      "execution_count": 30,
      "outputs": []
    },
    {
      "cell_type": "markdown",
      "source": [
        "# Teste Newton Cotes Fechada"
      ],
      "metadata": {
        "id": "9q7RLaMUxTH1"
      }
    },
    {
      "cell_type": "code",
      "source": [
        "degree = 3\n",
        "a = 0\n",
        "b = 5\n",
        "solution, partitions, error = newton_cotes_closed(f, a, b, degree)\n",
        "print(f'Solução: {solution}, Número de partições: {partitions}, Erro: {error}')"
      ],
      "metadata": {
        "colab": {
          "base_uri": "https://localhost:8080/"
        },
        "id": "UrRDSR04IUXW",
        "outputId": "77767660-4f43-459a-e360-1a6ea1d1f9c7"
      },
      "execution_count": 31,
      "outputs": [
        {
          "output_type": "stream",
          "name": "stdout",
          "text": [
            "Solução: 13968.465000381217, Número de partições: 64, Erro: 2.0452464055686903e-07\n"
          ]
        }
      ]
    },
    {
      "cell_type": "markdown",
      "source": [
        "# Fórmulas Abertas para integração dependendo do grau de polinômio definido."
      ],
      "metadata": {
        "id": "pF0v3iX5diNU"
      }
    },
    {
      "cell_type": "code",
      "source": [
        "def pol_inter_open(points, div, degree):\n",
        "  # Intervalo\n",
        "  h = (points[-1] - points[0])/div\n",
        "  if degree == 1: return h*(f(points[1]) + f(points[2]))\n",
        "  elif degree == 2: return h*(2 * f(points[1]) - f(points[2]) + 2 * f(points[3]))\n",
        "  elif degree == 3: return h*(11 * f(points[1]) + f(points[2]) + f(points[3]) + 11 * f(points[4]))\n",
        "  else: return 3*h*(11 * f(points[1]) - 14 * f(points[2]) + 26 * f(points[3]) - 14 * f(points[4]) + 11 * f(points[5]))"
      ],
      "metadata": {
        "id": "M_e4IrU5IuYj"
      },
      "execution_count": 26,
      "outputs": []
    },
    {
      "cell_type": "markdown",
      "source": [
        "# Newton Cotes utilizando fórmulas abertas"
      ],
      "metadata": {
        "id": "QHBBC1iCrRd8"
      }
    },
    {
      "cell_type": "code",
      "source": [
        "warnings.filterwarnings('ignore')\n",
        "# Lib para acelerar códigos python\n",
        "@numba.jit\n",
        "def newton_cotes_open(f, a, b, degree):\n",
        "  # Inicializando o erro em 10\n",
        "  E = 10\n",
        "  # Vetor para guardar o intervalo de integração\n",
        "  interval = [a, b]\n",
        "  # Inicializando com o número de partições igual a 1\n",
        "  N = 1\n",
        "  # Definindo do termo que vamos dividir o intervalo h do polinômio interpolador\n",
        "  if degree == 1: div = 2\n",
        "  elif degree == 2: div = 3\n",
        "  elif degree == 3: div = 24\n",
        "  elif degree == 4: div = 60\n",
        "  # Inicializando da variável que vai guardas as soluções antigas\n",
        "  Sol_old = 0\n",
        "  # Inicializando da variável que vai guardas as soluções novas\n",
        "  Sol_new = 0\n",
        "  while E > 1e-6:\n",
        "    Sol_new = 0\n",
        "    # Particiona o intervalo de integração em relação ao número de partições\n",
        "    partitions = numpy.linspace(interval[0], interval[1], N + 1)\n",
        "    # Pecorre as partições\n",
        "    for i in range(len(partitions) - 1):\n",
        "        a = partitions[i+0]\n",
        "        b = partitions[i+1]\n",
        "        # Retorna os pontos que serão utilizados no polinômio interpolador\n",
        "        f_points = numpy.linspace(a, b, degree + 3)\n",
        "        # Soma o resulta da interpolação nas diversas partições\n",
        "        Sol_new += pol_inter_open(f_points,div,degree)\n",
        "    # Aumenta o número de partições\n",
        "    N = N * 2\n",
        "    # Calcula o erro relativos da solução\n",
        "    E = abs(1 - Sol_old/Sol_new)\n",
        "    # Atualiza a solução antiga\n",
        "    Sol_old = Sol_new\n",
        "  return Sol_new, N, E\n",
        "\n",
        "print(newton_cotes_open(f, 0, 5, 4))"
      ],
      "metadata": {
        "id": "_CJOlJZkjDpL"
      },
      "execution_count": null,
      "outputs": []
    },
    {
      "cell_type": "markdown",
      "source": [
        "# Teste Newton Cotes Abertas"
      ],
      "metadata": {
        "id": "KEcvYh0urj20"
      }
    },
    {
      "cell_type": "code",
      "source": [
        "degree = 3\n",
        "a = 0\n",
        "b = 5\n",
        "solution, partitions, error = newton_cotes_open(f, a, b, degree)\n",
        "print(f'Solução: {solution}, Número de partições: {partitions}, Erro: {error}')"
      ],
      "metadata": {
        "colab": {
          "base_uri": "https://localhost:8080/"
        },
        "id": "yrOo4T0grp1U",
        "outputId": "543acf9a-0776-4196-f3f6-df560f37aefd"
      },
      "execution_count": 32,
      "outputs": [
        {
          "output_type": "stream",
          "name": "stdout",
          "text": [
            "Solução: 13968.46454947803, Número de partições: 64, Erro: 2.7980623817924766e-07\n"
          ]
        }
      ]
    }
  ]
}
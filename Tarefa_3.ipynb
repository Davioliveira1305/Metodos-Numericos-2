{
  "nbformat": 4,
  "nbformat_minor": 0,
  "metadata": {
    "colab": {
      "provenance": [],
      "authorship_tag": "ABX9TyNZZaK11rN5/U4Z88dBpr2L",
      "include_colab_link": true
    },
    "kernelspec": {
      "name": "python3",
      "display_name": "Python 3"
    },
    "language_info": {
      "name": "python"
    }
  },
  "cells": [
    {
      "cell_type": "markdown",
      "metadata": {
        "id": "view-in-github",
        "colab_type": "text"
      },
      "source": [
        "<a href=\"https://colab.research.google.com/github/Davioliveira1305/Metodos-Numericos-2/blob/main/Tarefa_3.ipynb\" target=\"_parent\"><img src=\"https://colab.research.google.com/assets/colab-badge.svg\" alt=\"Open In Colab\"/></a>"
      ]
    },
    {
      "cell_type": "markdown",
      "source": [
        "# Função que queremos integrar"
      ],
      "metadata": {
        "id": "7IIw3qEpwSLR"
      }
    },
    {
      "cell_type": "code",
      "source": [
        "import math, sympy\n",
        "def f(x): return math.sin(x ** 2 + 2)\n"
      ],
      "metadata": {
        "id": "WljoTxx1rtDC"
      },
      "execution_count": 75,
      "outputs": []
    },
    {
      "cell_type": "markdown",
      "source": [
        "# Fórmulas Fechadas para integração dependendo do grau de polinômio definido."
      ],
      "metadata": {
        "id": "_3rMxpH1wZiS"
      }
    },
    {
      "cell_type": "code",
      "source": [
        "def pol_inter(points, div, degree):\n",
        "  # Intervalo h\n",
        "  h = (points[-1] - points[0])/div\n",
        "  if degree == 1: return h*(f(points[0]) + f(points[1]))\n",
        "  elif degree == 2: return h*(f(points[0]) + 4 * f(points[1]) + f(points[2]))\n",
        "  elif degree == 3: return h*(f(points[0]) + 3 * f(points[1]) + 3 * f(points[2]) + f(points[3]))\n",
        "  else: return h*(7 * f(points[0]) + 32 * f(points[1]) + 12 * f(points[2]) + 32 * f(points[3]) + 7 * f(points[4]))"
      ],
      "metadata": {
        "id": "uBqbX2uUS34E"
      },
      "execution_count": 76,
      "outputs": []
    },
    {
      "cell_type": "markdown",
      "source": [
        "# Definição dos pontos amostrais para a aplicação nas fórmulas"
      ],
      "metadata": {
        "id": "3MtSDZqQxEiq"
      }
    },
    {
      "cell_type": "code",
      "source": [
        "def points(a, b, degree):\n",
        "  points = []\n",
        "  delta = (b - a)/degree\n",
        "  for i in range(0, degree+1):\n",
        "    points.append(a + i * delta)\n",
        "  return points"
      ],
      "metadata": {
        "id": "zziuGmdAxDpb"
      },
      "execution_count": 77,
      "outputs": []
    },
    {
      "cell_type": "markdown",
      "source": [
        "# Newton Cotes utilizando fórmulas fechadas"
      ],
      "metadata": {
        "id": "j1M0XyB3xMQ0"
      }
    },
    {
      "cell_type": "code",
      "source": [
        "import warnings, numba\n",
        "import numpy\n",
        "\n",
        "warnings.filterwarnings('ignore')\n",
        "# Lib para acelerar códigos python\n",
        "@numba.jit\n",
        "def newton_cotes_closed(f, a, b, degree):\n",
        "  # Inicializando o erro em 10\n",
        "  E = 10\n",
        "  # Vetor para guardar o intervalo de integração\n",
        "  interval = [a, b]\n",
        "  # Inicializando com o número de partições igual a 1\n",
        "  N = 1\n",
        "  # Definindo do termo que vamos dividir o intervalo h do polinômio interpolador\n",
        "  if degree == 1: div = 2\n",
        "  elif degree == 2: div = 6\n",
        "  elif degree == 3: div = 8\n",
        "  elif degree == 4: div = 90\n",
        "  # Inicializando da variável que vai guardas as soluções antigas\n",
        "  Sol_old = 0\n",
        "  # Inicializando da variável que vai guardas as soluções novas\n",
        "  Sol_new = 0\n",
        "  while E > 1e-6:\n",
        "    Sol_new = 0\n",
        "    # Particiona o intervalo de integração em relação ao número de partições\n",
        "    partitions = numpy.linspace(interval[0], interval[1], N + 1)\n",
        "    # Pecorre as partições\n",
        "    for i in range(len(partitions) - 1):\n",
        "        a = partitions[i+0]\n",
        "        b = partitions[i+1]\n",
        "        # Retorna os pontos que serão utilizados no polinômio interpolador\n",
        "        f_points = numpy.linspace(a, b, degree + 1)\n",
        "        # Soma o resulta da interpolação nas diversas partições\n",
        "        Sol_new += pol_inter(f_points,div,degree)\n",
        "    # Aumenta o número de partições\n",
        "    N = N * 2\n",
        "    # Calcula o erro relativos da solução\n",
        "    E = abs(1 - Sol_old/Sol_new)\n",
        "    # Atualiza a solução antiga\n",
        "    Sol_old = Sol_new\n",
        "  return Sol_new, N, E\n",
        "\n"
      ],
      "metadata": {
        "id": "3tqWzFgh9ZTB"
      },
      "execution_count": 81,
      "outputs": []
    },
    {
      "cell_type": "markdown",
      "source": [
        "# Teste de Newton Cotes Fechada"
      ],
      "metadata": {
        "id": "9q7RLaMUxTH1"
      }
    },
    {
      "cell_type": "code",
      "source": [
        "degree = 4\n",
        "a = 0\n",
        "b = 2\n",
        "solution, partitions, error = newton_cotes_closed(f, a, b, degree)\n",
        "print(f'Solução: {solution}, Número de partições: {partitions}, Erro: {error}')"
      ],
      "metadata": {
        "colab": {
          "base_uri": "https://localhost:8080/"
        },
        "id": "UrRDSR04IUXW",
        "outputId": "7bfd3dd3-e132-4ef6-a228-03271365bd98"
      },
      "execution_count": 82,
      "outputs": [
        {
          "output_type": "stream",
          "name": "stdout",
          "text": [
            "Solução: 0.08470053095867915, Número de partições: 32, Erro: 5.078546527759187e-07\n"
          ]
        }
      ]
    },
    {
      "cell_type": "code",
      "source": [],
      "metadata": {
        "id": "M_e4IrU5IuYj"
      },
      "execution_count": null,
      "outputs": []
    }
  ]
}